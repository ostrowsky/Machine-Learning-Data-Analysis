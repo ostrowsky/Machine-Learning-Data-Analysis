{
 "cells": [
  {
   "cell_type": "code",
   "execution_count": 13,
   "metadata": {},
   "outputs": [],
   "source": [
    "#импортируем необходимые модули\n",
    "import pandas as pd\n",
    "import numpy as np\n",
    "from sklearn.ensemble import GradientBoostingClassifier\n",
    "from sklearn.model_selection import KFold\n",
    "from sklearn.model_selection import cross_validate\n",
    "import time\n",
    "import datetime\n",
    "from sklearn.linear_model import LogisticRegression\n",
    "from sklearn.model_selection import GridSearchCV\n",
    "import numpy as np\n",
    "from math import log"
   ]
  },
  {
   "cell_type": "code",
   "execution_count": 14,
   "metadata": {},
   "outputs": [],
   "source": [
    "#считываем таблицу с признаками\n",
    "features = pd.read_csv('./features.csv', index_col='match_id')\n"
   ]
  },
  {
   "cell_type": "code",
   "execution_count": 15,
   "metadata": {},
   "outputs": [],
   "source": [
    "#выделяем столбец с целевой переменной\n",
    "y = features['radiant_win']\n"
   ]
  },
  {
   "cell_type": "code",
   "execution_count": 16,
   "metadata": {},
   "outputs": [],
   "source": [
    "#удаялем признаки, отсутствующие в тестовой выборке, формируем тренировочную выборку\n",
    "X = features.drop(['duration', 'radiant_win', 'tower_status_radiant', 'tower_status_dire', 'barracks_status_radiant', 'barracks_status_dire'], axis='columns')"
   ]
  },
  {
   "cell_type": "code",
   "execution_count": 17,
   "metadata": {},
   "outputs": [
    {
     "data": {
      "text/plain": [
       "start_time                     97230\n",
       "lobby_type                     97230\n",
       "r1_hero                        97230\n",
       "r1_level                       97230\n",
       "r1_xp                          97230\n",
       "r1_gold                        97230\n",
       "r1_lh                          97230\n",
       "r1_kills                       97230\n",
       "r1_deaths                      97230\n",
       "r1_items                       97230\n",
       "r2_hero                        97230\n",
       "r2_level                       97230\n",
       "r2_xp                          97230\n",
       "r2_gold                        97230\n",
       "r2_lh                          97230\n",
       "r2_kills                       97230\n",
       "r2_deaths                      97230\n",
       "r2_items                       97230\n",
       "r3_hero                        97230\n",
       "r3_level                       97230\n",
       "r3_xp                          97230\n",
       "r3_gold                        97230\n",
       "r3_lh                          97230\n",
       "r3_kills                       97230\n",
       "r3_deaths                      97230\n",
       "r3_items                       97230\n",
       "r4_hero                        97230\n",
       "r4_level                       97230\n",
       "r4_xp                          97230\n",
       "r4_gold                        97230\n",
       "                               ...  \n",
       "d5_lh                          97230\n",
       "d5_kills                       97230\n",
       "d5_deaths                      97230\n",
       "d5_items                       97230\n",
       "first_blood_time               77677\n",
       "first_blood_team               77677\n",
       "first_blood_player1            77677\n",
       "first_blood_player2            53243\n",
       "radiant_bottle_time            81539\n",
       "radiant_courier_time           96538\n",
       "radiant_flying_courier_time    69751\n",
       "radiant_tpscroll_count         97230\n",
       "radiant_boots_count            97230\n",
       "radiant_ward_observer_count    97230\n",
       "radiant_ward_sentry_count      97230\n",
       "radiant_first_ward_time        95394\n",
       "dire_bottle_time               81087\n",
       "dire_courier_time              96554\n",
       "dire_flying_courier_time       71132\n",
       "dire_tpscroll_count            97230\n",
       "dire_boots_count               97230\n",
       "dire_ward_observer_count       97230\n",
       "dire_ward_sentry_count         97230\n",
       "dire_first_ward_time           95404\n",
       "duration                       97230\n",
       "radiant_win                    97230\n",
       "tower_status_radiant           97230\n",
       "tower_status_dire              97230\n",
       "barracks_status_radiant        97230\n",
       "barracks_status_dire           97230\n",
       "Length: 108, dtype: int64"
      ]
     },
     "execution_count": 17,
     "metadata": {},
     "output_type": "execute_result"
    }
   ],
   "source": [
    "#проверяеме выборку на наличие пропусков \n",
    "features.count()"
   ]
  },
  {
   "cell_type": "code",
   "execution_count": 18,
   "metadata": {},
   "outputs": [
    {
     "data": {
      "text/plain": [
       "'\\nfirst_blood_time - Если событие \"первая кровь\" не успело произойти за первые 5 минут, то признаки принимают пропущенное значение\\nfirst_blood_team - Если событие \"первая кровь\" не успело произойти за первые 5 минут, то признаки принимают пропущенное значение\\nfirst_blood_player1 - Если событие \"первая кровь\" не успело произойти за первые 5 минут, то признаки принимают пропущенное значение\\nfirst_blood_player2 - Если событие \"первая кровь\" не успело произойти за первые 5 минут, то признаки принимают пропущенное значение\\nradiant_bottle_time - время первого приобретения командой предмета \"bottle\", пусто если не приобрели          \\nradiant_courier_time - время приобретения предмета \"courier\", пусто если не приобрели          \\nradiant_flying_courier_time время приобретения предмета \"flying_courier\"\\nradiant_first_ward_time   время установки командой первого \"наблюдателя\", т.е. предмета, который позволяет видеть часть игрового поля, пусто если не установили      \\ndire_bottle_time               \\ndire_courier_time              \\ndire_flying_courier_time \\ndire_first_ward_time\\n'"
      ]
     },
     "execution_count": 18,
     "metadata": {},
     "output_type": "execute_result"
    }
   ],
   "source": [
    "# названия признаков, имеющих пропуски с обоснованиями\n",
    "'''\n",
    "first_blood_time - Если событие \"первая кровь\" не успело произойти за первые 5 минут, то признаки принимают пропущенное значение\n",
    "first_blood_team - Если событие \"первая кровь\" не успело произойти за первые 5 минут, то признаки принимают пропущенное значение\n",
    "first_blood_player1 - Если событие \"первая кровь\" не успело произойти за первые 5 минут, то признаки принимают пропущенное значение\n",
    "first_blood_player2 - Если событие \"первая кровь\" не успело произойти за первые 5 минут, то признаки принимают пропущенное значение\n",
    "radiant_bottle_time - время первого приобретения командой предмета \"bottle\", пусто если не приобрели          \n",
    "radiant_courier_time - время приобретения предмета \"courier\", пусто если не приобрели          \n",
    "radiant_flying_courier_time время приобретения предмета \"flying_courier\"\n",
    "radiant_first_ward_time   время установки командой первого \"наблюдателя\", т.е. предмета, который позволяет видеть часть игрового поля, пусто если не установили      \n",
    "dire_bottle_time               \n",
    "dire_courier_time              \n",
    "dire_flying_courier_time \n",
    "dire_first_ward_time\n",
    "'''"
   ]
  },
  {
   "cell_type": "code",
   "execution_count": 19,
   "metadata": {},
   "outputs": [],
   "source": [
    "#заменяем пропщенные значения на -1\n",
    "X.fillna(inplace=True, value = -1)"
   ]
  },
  {
   "cell_type": "code",
   "execution_count": 20,
   "metadata": {},
   "outputs": [
    {
     "data": {
      "text/plain": [
       "start_time                     97230\n",
       "lobby_type                     97230\n",
       "r1_hero                        97230\n",
       "r1_level                       97230\n",
       "r1_xp                          97230\n",
       "r1_gold                        97230\n",
       "r1_lh                          97230\n",
       "r1_kills                       97230\n",
       "r1_deaths                      97230\n",
       "r1_items                       97230\n",
       "r2_hero                        97230\n",
       "r2_level                       97230\n",
       "r2_xp                          97230\n",
       "r2_gold                        97230\n",
       "r2_lh                          97230\n",
       "r2_kills                       97230\n",
       "r2_deaths                      97230\n",
       "r2_items                       97230\n",
       "r3_hero                        97230\n",
       "r3_level                       97230\n",
       "r3_xp                          97230\n",
       "r3_gold                        97230\n",
       "r3_lh                          97230\n",
       "r3_kills                       97230\n",
       "r3_deaths                      97230\n",
       "r3_items                       97230\n",
       "r4_hero                        97230\n",
       "r4_level                       97230\n",
       "r4_xp                          97230\n",
       "r4_gold                        97230\n",
       "                               ...  \n",
       "d4_deaths                      97230\n",
       "d4_items                       97230\n",
       "d5_hero                        97230\n",
       "d5_level                       97230\n",
       "d5_xp                          97230\n",
       "d5_gold                        97230\n",
       "d5_lh                          97230\n",
       "d5_kills                       97230\n",
       "d5_deaths                      97230\n",
       "d5_items                       97230\n",
       "first_blood_time               97230\n",
       "first_blood_team               97230\n",
       "first_blood_player1            97230\n",
       "first_blood_player2            97230\n",
       "radiant_bottle_time            97230\n",
       "radiant_courier_time           97230\n",
       "radiant_flying_courier_time    97230\n",
       "radiant_tpscroll_count         97230\n",
       "radiant_boots_count            97230\n",
       "radiant_ward_observer_count    97230\n",
       "radiant_ward_sentry_count      97230\n",
       "radiant_first_ward_time        97230\n",
       "dire_bottle_time               97230\n",
       "dire_courier_time              97230\n",
       "dire_flying_courier_time       97230\n",
       "dire_tpscroll_count            97230\n",
       "dire_boots_count               97230\n",
       "dire_ward_observer_count       97230\n",
       "dire_ward_sentry_count         97230\n",
       "dire_first_ward_time           97230\n",
       "Length: 102, dtype: int64"
      ]
     },
     "execution_count": 20,
     "metadata": {},
     "output_type": "execute_result"
    }
   ],
   "source": [
    "#проверяем отсутствие пропусков\n",
    "X.count()"
   ]
  },
  {
   "cell_type": "code",
   "execution_count": 21,
   "metadata": {},
   "outputs": [],
   "source": [
    "#Какой столбец содержит целевую переменную? Запишите его название - radiant_win   "
   ]
  },
  {
   "cell_type": "code",
   "execution_count": 22,
   "metadata": {},
   "outputs": [],
   "source": [
    "#создаем генератор разбиений для кросс-валидации по 5 блокам\n",
    "cv = KFold(n_splits=5, shuffle=True)"
   ]
  },
  {
   "cell_type": "code",
   "execution_count": 23,
   "metadata": {},
   "outputs": [
    {
     "name": "stdout",
     "output_type": "stream",
     "text": [
      "10 0.6647583285528882 Time elapsed: 0:01:45.397978\n",
      "20 0.6825154462738123 Time elapsed: 0:02:29.413744\n",
      "30 0.6885751972120369 Time elapsed: 0:03:35.248443\n",
      "40 0.6945964631134289 Time elapsed: 0:05:11.231668\n",
      "50 0.6974337686779133 Time elapsed: 0:06:12.161144\n"
     ]
    }
   ],
   "source": [
    "#Подход 1: градиентный бустинг \"в лоб\"\n",
    "#оцениваем качество градиентного бустинга для количества деревьев:10,20,30,40,50\n",
    "test_score = []\n",
    "for n_estimators in [10,20,30,40,50]:\n",
    "    start_time = datetime.datetime.now()\n",
    "    clf = GradientBoostingClassifier(n_estimators=n_estimators)\n",
    "    scores = cross_validate(estimator=clf,X=X,y=y,cv=cv,scoring='roc_auc')\n",
    "    test_score.append(scores['test_score'].mean())\n",
    "    print(n_estimators, scores['test_score'].mean(), 'Time elapsed:', datetime.datetime.now() - start_time)\n",
    "\n",
    "    "
   ]
  },
  {
   "cell_type": "code",
   "execution_count": 24,
   "metadata": {},
   "outputs": [],
   "source": [
    "from matplotlib import pyplot"
   ]
  },
  {
   "cell_type": "code",
   "execution_count": 25,
   "metadata": {},
   "outputs": [
    {
     "data": {
      "text/plain": [
       "[<matplotlib.lines.Line2D at 0x7f685b32bd30>]"
      ]
     },
     "execution_count": 25,
     "metadata": {},
     "output_type": "execute_result"
    },
    {
     "data": {
      "image/png": "[encoded data removed]",
      "text/plain": [
       "<Figure size 432x288 with 1 Axes>"
      ]
     },
     "metadata": {
      "needs_background": "light"
     },
     "output_type": "display_data"
    }
   ],
   "source": [
    "pyplot.plot([10,20,30,40,50],test_score )"
   ]
  },
  {
   "cell_type": "code",
   "execution_count": 26,
   "metadata": {},
   "outputs": [
    {
     "data": {
      "text/plain": [
       "'\\n1. first_blood_time, first_blood_team  - Если событие \"первая кровь\" не успело произойти за первые 5 минут, то признаки принимают пропущенное значение\\n2. \\'radiant_win\\'\\n3. время 0:01:16.010437, качество 0.6897171100684416\\n4.имеет, модель с 40 деревьями дает прирост точности 6,5%, с 50 - прирост 10,7%. Для ускорения обучения можно уменьшить значение параметра max_depth\\n'"
      ]
     },
     "execution_count": 26,
     "metadata": {},
     "output_type": "execute_result"
    }
   ],
   "source": [
    "'''\n",
    "1. first_blood_time, first_blood_team  - Если событие \"первая кровь\" не успело произойти за первые 5 минут, то признаки принимают пропущенное значение\n",
    "2. 'radiant_win'\n",
    "3. время 0:01:16.010437, качество 0.6897171100684416\n",
    "4.имеет, модель с 40 деревьями дает прирост точности 6,5%, с 50 - прирост 10,7%. Для ускорения обучения можно уменьшить значение параметра max_depth\n",
    "'''"
   ]
  },
  {
   "cell_type": "code",
   "execution_count": 27,
   "metadata": {},
   "outputs": [
    {
     "data": {
      "text/plain": [
       "{'C': array([1.e-100, 1.e-099, 1.e-098, 1.e-097, 1.e-096, 1.e-095, 1.e-094,\n",
       "        1.e-093, 1.e-092, 1.e-091, 1.e-090, 1.e-089, 1.e-088, 1.e-087,\n",
       "        1.e-086, 1.e-085, 1.e-084, 1.e-083, 1.e-082, 1.e-081, 1.e-080,\n",
       "        1.e-079, 1.e-078, 1.e-077, 1.e-076, 1.e-075, 1.e-074, 1.e-073,\n",
       "        1.e-072, 1.e-071, 1.e-070, 1.e-069, 1.e-068, 1.e-067, 1.e-066,\n",
       "        1.e-065, 1.e-064, 1.e-063, 1.e-062, 1.e-061, 1.e-060, 1.e-059,\n",
       "        1.e-058, 1.e-057, 1.e-056, 1.e-055, 1.e-054, 1.e-053, 1.e-052,\n",
       "        1.e-051, 1.e-050, 1.e-049, 1.e-048, 1.e-047, 1.e-046, 1.e-045,\n",
       "        1.e-044, 1.e-043, 1.e-042, 1.e-041, 1.e-040, 1.e-039, 1.e-038,\n",
       "        1.e-037, 1.e-036, 1.e-035, 1.e-034, 1.e-033, 1.e-032, 1.e-031,\n",
       "        1.e-030, 1.e-029, 1.e-028, 1.e-027, 1.e-026, 1.e-025, 1.e-024,\n",
       "        1.e-023, 1.e-022, 1.e-021, 1.e-020, 1.e-019, 1.e-018, 1.e-017,\n",
       "        1.e-016, 1.e-015, 1.e-014, 1.e-013, 1.e-012, 1.e-011, 1.e-010,\n",
       "        1.e-009, 1.e-008, 1.e-007, 1.e-006, 1.e-005, 1.e-004, 1.e-003,\n",
       "        1.e-002, 1.e-001, 1.e+000, 1.e+001, 1.e+002, 1.e+003, 1.e+004,\n",
       "        1.e+005, 1.e+006, 1.e+007, 1.e+008, 1.e+009])}"
      ]
     },
     "execution_count": 27,
     "metadata": {},
     "output_type": "execute_result"
    }
   ],
   "source": [
    "#Подход 2: логистическая регрессия\n",
    "#создаем сетку для оценки параметра С\n",
    "grid = { 'C' : np.power( 10.0, np.arange(-100,10 ))}\n",
    "grid"
   ]
  },
  {
   "cell_type": "code",
   "execution_count": 28,
   "metadata": {},
   "outputs": [
    {
     "name": "stdout",
     "output_type": "stream",
     "text": [
      "1e-21\n",
      "C =  1e-100 best_c =  1e-21 0.5 Time elapsed: 0:06:23.563678\n",
      "C =  1e-99 best_c =  1e-21 0.5 Time elapsed: 0:06:26.675543\n",
      "C =  1e-98 best_c =  1e-21 0.5 Time elapsed: 0:06:29.808047\n",
      "C =  1e-97 best_c =  1e-21 0.5 Time elapsed: 0:06:33.144347\n",
      "C =  1e-96 best_c =  1e-21 0.5 Time elapsed: 0:06:36.296698\n",
      "C =  1e-95 best_c =  1e-21 0.5 Time elapsed: 0:06:39.141720\n",
      "C =  1e-94 best_c =  1e-21 0.5 Time elapsed: 0:06:42.307278\n",
      "C =  1e-93 best_c =  1e-21 0.5 Time elapsed: 0:06:45.457397\n",
      "C =  1e-92 best_c =  1e-21 0.5 Time elapsed: 0:06:48.526109\n",
      "C =  1e-91 best_c =  1e-21 0.5 Time elapsed: 0:06:51.768799\n",
      "C =  1e-90 best_c =  1e-21 0.5 Time elapsed: 0:06:54.964264\n",
      "C =  1e-89 best_c =  1e-21 0.5 Time elapsed: 0:06:58.395374\n",
      "C =  1e-88 best_c =  1e-21 0.5 Time elapsed: 0:07:01.420477\n",
      "C =  1e-87 best_c =  1e-21 0.5 Time elapsed: 0:07:04.633051\n",
      "C =  1e-86 best_c =  1e-21 0.5 Time elapsed: 0:07:08.010063\n",
      "C =  1e-85 best_c =  1e-21 0.5 Time elapsed: 0:07:11.232737\n",
      "C =  1e-84 best_c =  1e-21 0.5 Time elapsed: 0:07:14.326572\n",
      "C =  1e-83 best_c =  1e-21 0.5 Time elapsed: 0:07:17.853535\n",
      "C =  1e-82 best_c =  1e-21 0.5 Time elapsed: 0:07:20.989010\n",
      "C =  1e-81 best_c =  1e-21 0.5 Time elapsed: 0:07:24.074437\n",
      "C =  1e-80 best_c =  1e-21 0.5 Time elapsed: 0:07:27.321841\n",
      "C =  1e-79 best_c =  1e-21 0.5 Time elapsed: 0:07:30.476510\n",
      "C =  1e-78 best_c =  1e-21 0.5 Time elapsed: 0:07:33.513114\n",
      "C =  1e-77 best_c =  1e-21 0.5 Time elapsed: 0:07:36.631672\n",
      "C =  1e-76 best_c =  1e-21 0.5 Time elapsed: 0:07:39.562580\n",
      "C =  1e-75 best_c =  1e-21 0.5 Time elapsed: 0:07:42.584698\n",
      "C =  1e-74 best_c =  1e-21 0.5 Time elapsed: 0:07:45.694620\n",
      "C =  1e-73 best_c =  1e-21 0.5 Time elapsed: 0:07:48.988880\n",
      "C =  1e-72 best_c =  1e-21 0.5 Time elapsed: 0:07:52.252834\n",
      "C =  1e-71 best_c =  1e-21 0.5 Time elapsed: 0:07:55.509765\n",
      "C =  1e-70 best_c =  1e-21 0.5 Time elapsed: 0:07:58.651748\n",
      "C =  1e-69 best_c =  1e-21 0.5 Time elapsed: 0:08:01.826314\n",
      "C =  1e-68 best_c =  1e-21 0.5 Time elapsed: 0:08:05.017061\n",
      "C =  1e-67 best_c =  1e-21 0.5 Time elapsed: 0:08:08.428539\n",
      "C =  1e-66 best_c =  1e-21 0.5 Time elapsed: 0:08:11.710030\n",
      "C =  1e-65 best_c =  1e-21 0.5 Time elapsed: 0:08:15.013563\n",
      "C =  1e-64 best_c =  1e-21 0.5 Time elapsed: 0:08:18.347297\n",
      "C =  1e-63 best_c =  1e-21 0.5 Time elapsed: 0:08:21.646389\n",
      "C =  1e-62 best_c =  1e-21 0.5 Time elapsed: 0:08:24.761431\n",
      "C =  1e-61 best_c =  1e-21 0.5 Time elapsed: 0:08:28.384860\n",
      "C =  1e-60 best_c =  1e-21 0.5 Time elapsed: 0:08:31.580586\n",
      "C =  1e-59 best_c =  1e-21 0.5 Time elapsed: 0:08:34.931613\n",
      "C =  1e-58 best_c =  1e-21 0.5 Time elapsed: 0:08:37.960958\n",
      "C =  1e-57 best_c =  1e-21 0.5 Time elapsed: 0:08:41.202527\n",
      "C =  1e-56 best_c =  1e-21 0.5 Time elapsed: 0:08:44.612442\n",
      "C =  1e-55 best_c =  1e-21 0.5 Time elapsed: 0:08:48.058910\n",
      "C =  1e-54 best_c =  1e-21 0.5 Time elapsed: 0:08:51.364573\n",
      "C =  1e-53 best_c =  1e-21 0.5 Time elapsed: 0:08:54.631582\n",
      "C =  1e-52 best_c =  1e-21 0.5 Time elapsed: 0:08:57.573028\n",
      "C =  1e-51 best_c =  1e-21 0.5 Time elapsed: 0:09:00.856453\n",
      "C =  1e-50 best_c =  1e-21 0.5 Time elapsed: 0:09:04.103652\n",
      "C =  1e-49 best_c =  1e-21 0.5 Time elapsed: 0:09:07.574713\n",
      "C =  1e-48 best_c =  1e-21 0.5 Time elapsed: 0:09:10.946923\n",
      "C =  1e-47 best_c =  1e-21 0.5 Time elapsed: 0:09:14.204483\n",
      "C =  1e-46 best_c =  1e-21 0.5 Time elapsed: 0:09:17.474501\n",
      "C =  1e-45 best_c =  1e-21 0.5024342420028571 Time elapsed: 0:09:20.713019\n",
      "C =  1e-44 best_c =  1e-21 0.5 Time elapsed: 0:09:24.092956\n",
      "C =  1e-43 best_c =  1e-21 0.5029585379059108 Time elapsed: 0:09:27.590009\n",
      "C =  1e-42 best_c =  1e-21 0.5 Time elapsed: 0:09:30.919134\n",
      "C =  1e-41 best_c =  1e-21 0.5 Time elapsed: 0:09:34.167220\n",
      "C =  1e-40 best_c =  1e-21 0.5 Time elapsed: 0:09:37.710761\n",
      "C =  1e-39 best_c =  1e-21 0.5 Time elapsed: 0:09:41.088838\n",
      "C =  1e-38 best_c =  1e-21 0.5 Time elapsed: 0:09:44.435190\n",
      "C =  1e-37 best_c =  1e-21 0.5029795260154271 Time elapsed: 0:09:48.477615\n",
      "C =  1e-36 best_c =  1e-21 0.5 Time elapsed: 0:09:51.876010\n",
      "C =  1e-35 best_c =  1e-21 0.5 Time elapsed: 0:09:54.939742\n",
      "C =  1e-34 best_c =  1e-21 0.5 Time elapsed: 0:09:58.249685\n",
      "C =  1e-33 best_c =  1e-21 0.5 Time elapsed: 0:10:01.325284\n",
      "C =  1e-32 best_c =  1e-21 0.5030587634816227 Time elapsed: 0:10:04.516889\n",
      "C =  1e-31 best_c =  1e-21 0.5 Time elapsed: 0:10:07.894775\n",
      "C =  1e-30 best_c =  1e-21 0.502545781854769 Time elapsed: 0:10:11.291308\n",
      "C =  1e-29 best_c =  1e-21 0.5 Time elapsed: 0:10:14.440759\n",
      "C =  1e-28 best_c =  1e-21 0.5134579457233637 Time elapsed: 0:10:18.273133\n",
      "C =  1e-27 best_c =  1e-21 0.5134176073119828 Time elapsed: 0:10:22.032899\n",
      "C =  1e-26 best_c =  1e-21 0.513429990886429 Time elapsed: 0:10:26.067250\n",
      "C =  1e-25 best_c =  1e-21 0.5134479752542883 Time elapsed: 0:10:30.186879\n",
      "C =  1e-24 best_c =  1e-21 0.5134495440447837 Time elapsed: 0:10:34.926922\n",
      "C =  1e-23 best_c =  1e-21 0.5134602617139696 Time elapsed: 0:10:39.016021\n",
      "C =  1e-22 best_c =  1e-21 0.5134431260608601 Time elapsed: 0:10:43.012374\n",
      "C =  1e-21 best_c =  1e-21 0.5134413239589983 Time elapsed: 0:10:47.424105\n",
      "C =  1e-20 best_c =  1e-21 0.5134624896959533 Time elapsed: 0:10:51.994365\n",
      "C =  1e-19 best_c =  1e-21 0.5134692815880728 Time elapsed: 0:10:56.580005\n",
      "C =  1e-18 best_c =  1e-21 0.5134649346799811 Time elapsed: 0:11:01.175692\n",
      "C =  1e-17 best_c =  1e-21 0.5134327937936647 Time elapsed: 0:11:05.698107\n",
      "C =  1e-16 best_c =  1e-21 0.5134353159621616 Time elapsed: 0:11:10.431893\n",
      "C =  1e-15 best_c =  1e-21 0.5134733957096392 Time elapsed: 0:11:15.082166\n",
      "C =  1e-14 best_c =  1e-21 0.5134219841906972 Time elapsed: 0:11:20.113419\n",
      "C =  1e-13 best_c =  1e-21 0.5134307454010314 Time elapsed: 0:11:25.183996\n",
      "C =  1e-12 best_c =  1e-21 0.5134763721677306 Time elapsed: 0:11:30.246413\n",
      "C =  1e-11 best_c =  1e-21 0.5134523017831196 Time elapsed: 0:11:34.839195\n",
      "C =  1e-10 best_c =  1e-21 0.5134370313666496 Time elapsed: 0:11:39.629622\n",
      "C =  1e-09 best_c =  1e-21 0.5134481994814755 Time elapsed: 0:11:44.501372\n",
      "C =  1e-08 best_c =  1e-21 0.5134680046012914 Time elapsed: 0:11:49.113596\n",
      "C =  1e-07 best_c =  1e-21 0.5134457224785229 Time elapsed: 0:11:53.461532\n",
      "C =  1e-06 best_c =  1e-21 0.513462043740106 Time elapsed: 0:11:57.731909\n",
      "C =  1e-05 best_c =  1e-21 0.513465195990422 Time elapsed: 0:12:02.272165\n",
      "C =  0.0001 best_c =  1e-21 0.5134219982074761 Time elapsed: 0:12:07.240843\n",
      "C =  0.001 best_c =  1e-21 0.5134446129506756 Time elapsed: 0:12:12.321503\n",
      "C =  0.01 best_c =  1e-21 0.513468814295003 Time elapsed: 0:12:17.184604\n",
      "C =  0.1 best_c =  1e-21 0.5134485151689889 Time elapsed: 0:12:22.420734\n",
      "C =  1.0 best_c =  1e-21 0.5134412704382056 Time elapsed: 0:12:27.018867\n",
      "C =  10.0 best_c =  1e-21 0.5134741023915418 Time elapsed: 0:12:31.641362\n",
      "C =  100.0 best_c =  1e-21 0.5134350129898941 Time elapsed: 0:12:35.942317\n",
      "C =  1000.0 best_c =  1e-21 0.5134506344529807 Time elapsed: 0:12:40.366442\n",
      "C =  10000.0 best_c =  1e-21 0.5134533840949617 Time elapsed: 0:12:45.281911\n",
      "C =  100000.0 best_c =  1e-21 0.5134529938038883 Time elapsed: 0:12:49.991522\n",
      "C =  1000000.0 best_c =  1e-21 0.5134778104710611 Time elapsed: 0:12:54.681509\n",
      "C =  10000000.0 best_c =  1e-21 0.5134809088228736 Time elapsed: 0:12:58.951428\n",
      "C =  100000000.0 best_c =  1e-21 0.5134402977553223 Time elapsed: 0:13:03.368581\n",
      "C =  1000000000.0 best_c =  1e-21 0.51344370050208 Time elapsed: 0:13:08.777035\n"
     ]
    }
   ],
   "source": [
    "#оцениваем качество логистической регрессии с L2-регуляризацией\n",
    "test_score = []\n",
    "start_time = datetime.datetime.now()\n",
    "clf = LogisticRegression(penalty='l2', solver='lbfgs')\n",
    "gs = GridSearchCV(clf, grid, cv=cv, scoring='roc_auc')\n",
    "gs.fit(X=X, y=y)\n",
    "best_c = gs.best_params_['C']\n",
    "print(best_c)\n",
    "for C in grid['C']:\n",
    "    clf_opt_C = LogisticRegression(penalty='l2', C=C, solver='lbfgs')\n",
    "    scores = cross_validate(estimator=clf_opt_C,X=X,y=y,cv=cv,scoring='roc_auc')\n",
    "    test_score.append(scores['test_score'].mean())\n",
    "    print('C = ', C, 'best_c = ', best_c , scores['test_score'].mean(), 'Time elapsed:', datetime.datetime.now() - start_time)\n"
   ]
  },
  {
   "cell_type": "code",
   "execution_count": 29,
   "metadata": {},
   "outputs": [
    {
     "data": {
      "text/plain": [
       "[<matplotlib.lines.Line2D at 0x7f685afdae10>]"
      ]
     },
     "execution_count": 29,
     "metadata": {},
     "output_type": "execute_result"
    },
    {
     "data": {
      "image/png": "[encoded data removed]",
      "text/plain": [
       "<Figure size 432x288 with 1 Axes>"
      ]
     },
     "metadata": {
      "needs_background": "light"
     },
     "output_type": "display_data"
    }
   ],
   "source": [
    "pyplot.plot([log(X) for X in grid['C']],test_score )"
   ]
  },
  {
   "cell_type": "code",
   "execution_count": 30,
   "metadata": {},
   "outputs": [],
   "source": [
    "#создаем выборку без категориальных значений\n",
    "no_categorials = features.drop([\n",
    "'lobby_type',\n",
    "'r1_hero',\n",
    "'r2_hero',\n",
    "'r3_hero',\n",
    "'r4_hero',\n",
    "'r5_hero',\n",
    "'d1_hero',\n",
    "'d2_hero',\n",
    "'d3_hero',\n",
    "'d4_hero',\n",
    "'d5_hero'\n",
    "], axis='columns')"
   ]
  },
  {
   "cell_type": "code",
   "execution_count": 31,
   "metadata": {},
   "outputs": [],
   "source": [
    "#для логистической регресии заполняем пропуски значениями 0\n",
    "no_categorials.fillna(inplace=True, value = 0)"
   ]
  },
  {
   "cell_type": "code",
   "execution_count": 32,
   "metadata": {},
   "outputs": [
    {
     "name": "stdout",
     "output_type": "stream",
     "text": [
      "1e-20\n",
      "C =  1e-100 best_c =  1e-20 0.5 Time elapsed: 0:06:01.779861\n",
      "C =  1e-99 best_c =  1e-20 0.5 Time elapsed: 0:06:04.191225\n",
      "C =  1e-98 best_c =  1e-20 0.5 Time elapsed: 0:06:06.400595\n",
      "C =  1e-97 best_c =  1e-20 0.5 Time elapsed: 0:06:08.984143\n",
      "C =  1e-96 best_c =  1e-20 0.5 Time elapsed: 0:06:11.454663\n",
      "C =  1e-95 best_c =  1e-20 0.5 Time elapsed: 0:06:13.658689\n",
      "C =  1e-94 best_c =  1e-20 0.5 Time elapsed: 0:06:16.207643\n",
      "C =  1e-93 best_c =  1e-20 0.5 Time elapsed: 0:06:18.501986\n",
      "C =  1e-92 best_c =  1e-20 0.5 Time elapsed: 0:06:20.939571\n",
      "C =  1e-91 best_c =  1e-20 0.5 Time elapsed: 0:06:23.543063\n",
      "C =  1e-90 best_c =  1e-20 0.5 Time elapsed: 0:06:26.436352\n",
      "C =  1e-89 best_c =  1e-20 0.5 Time elapsed: 0:06:29.381860\n",
      "C =  1e-88 best_c =  1e-20 0.5 Time elapsed: 0:06:31.937181\n",
      "C =  1e-87 best_c =  1e-20 0.5 Time elapsed: 0:06:34.610332\n",
      "C =  1e-86 best_c =  1e-20 0.5 Time elapsed: 0:06:37.207850\n",
      "C =  1e-85 best_c =  1e-20 0.5 Time elapsed: 0:06:40.245382\n",
      "C =  1e-84 best_c =  1e-20 0.5 Time elapsed: 0:06:42.881471\n",
      "C =  1e-83 best_c =  1e-20 0.5 Time elapsed: 0:06:44.999487\n",
      "C =  1e-82 best_c =  1e-20 0.5 Time elapsed: 0:06:47.089411\n",
      "C =  1e-81 best_c =  1e-20 0.5 Time elapsed: 0:06:49.470789\n",
      "C =  1e-80 best_c =  1e-20 0.5 Time elapsed: 0:06:51.884799\n",
      "C =  1e-79 best_c =  1e-20 0.5 Time elapsed: 0:06:53.955515\n",
      "C =  1e-78 best_c =  1e-20 0.5 Time elapsed: 0:06:56.498006\n",
      "C =  1e-77 best_c =  1e-20 0.5 Time elapsed: 0:06:59.255183\n",
      "C =  1e-76 best_c =  1e-20 0.5 Time elapsed: 0:07:01.710663\n",
      "C =  1e-75 best_c =  1e-20 0.5 Time elapsed: 0:07:04.245011\n",
      "C =  1e-74 best_c =  1e-20 0.5 Time elapsed: 0:07:06.636365\n",
      "C =  1e-73 best_c =  1e-20 0.5 Time elapsed: 0:07:08.839866\n",
      "C =  1e-72 best_c =  1e-20 0.5 Time elapsed: 0:07:10.994072\n",
      "C =  1e-71 best_c =  1e-20 0.5 Time elapsed: 0:07:13.526101\n",
      "C =  1e-70 best_c =  1e-20 0.5 Time elapsed: 0:07:15.848510\n",
      "C =  1e-69 best_c =  1e-20 0.5 Time elapsed: 0:07:18.243855\n",
      "C =  1e-68 best_c =  1e-20 0.5 Time elapsed: 0:07:20.753044\n",
      "C =  1e-67 best_c =  1e-20 0.5 Time elapsed: 0:07:23.638855\n",
      "C =  1e-66 best_c =  1e-20 0.5 Time elapsed: 0:07:26.432005\n",
      "C =  1e-65 best_c =  1e-20 0.5 Time elapsed: 0:07:28.788305\n",
      "C =  1e-64 best_c =  1e-20 0.5 Time elapsed: 0:07:31.053106\n",
      "C =  1e-63 best_c =  1e-20 0.5 Time elapsed: 0:07:33.456945\n",
      "C =  1e-62 best_c =  1e-20 0.5 Time elapsed: 0:07:35.710309\n",
      "C =  1e-61 best_c =  1e-20 0.5 Time elapsed: 0:07:37.898667\n",
      "C =  1e-60 best_c =  1e-20 0.5 Time elapsed: 0:07:40.367037\n",
      "C =  1e-59 best_c =  1e-20 0.5 Time elapsed: 0:07:42.892195\n",
      "C =  1e-58 best_c =  1e-20 0.5021410662576313 Time elapsed: 0:07:45.171779\n",
      "C =  1e-57 best_c =  1e-20 0.5 Time elapsed: 0:07:47.295382\n",
      "C =  1e-56 best_c =  1e-20 0.5 Time elapsed: 0:07:49.710193\n",
      "C =  1e-55 best_c =  1e-20 0.5 Time elapsed: 0:07:52.332661\n",
      "C =  1e-54 best_c =  1e-20 0.5 Time elapsed: 0:07:54.974594\n",
      "C =  1e-53 best_c =  1e-20 0.5 Time elapsed: 0:07:58.056549\n",
      "C =  1e-52 best_c =  1e-20 0.5024479293233147 Time elapsed: 0:08:00.921648\n",
      "C =  1e-51 best_c =  1e-20 0.5 Time elapsed: 0:08:03.803429\n",
      "C =  1e-50 best_c =  1e-20 0.5 Time elapsed: 0:08:06.207429\n",
      "C =  1e-49 best_c =  1e-20 0.5 Time elapsed: 0:08:08.514397\n",
      "C =  1e-48 best_c =  1e-20 0.5021484590640443 Time elapsed: 0:08:11.182121\n",
      "C =  1e-47 best_c =  1e-20 0.5 Time elapsed: 0:08:13.640037\n",
      "C =  1e-46 best_c =  1e-20 0.5 Time elapsed: 0:08:15.931368\n",
      "C =  1e-45 best_c =  1e-20 0.5 Time elapsed: 0:08:18.357182\n",
      "C =  1e-44 best_c =  1e-20 0.5 Time elapsed: 0:08:20.781738\n",
      "C =  1e-43 best_c =  1e-20 0.5 Time elapsed: 0:08:23.361434\n",
      "C =  1e-42 best_c =  1e-20 0.5 Time elapsed: 0:08:25.629229\n",
      "C =  1e-41 best_c =  1e-20 0.5 Time elapsed: 0:08:27.935258\n",
      "C =  1e-40 best_c =  1e-20 0.5 Time elapsed: 0:08:30.446528\n",
      "C =  1e-39 best_c =  1e-20 0.5 Time elapsed: 0:08:32.652599\n",
      "C =  1e-38 best_c =  1e-20 0.5 Time elapsed: 0:08:34.816147\n",
      "C =  1e-37 best_c =  1e-20 0.5026436793292262 Time elapsed: 0:08:37.677524\n",
      "C =  1e-36 best_c =  1e-20 0.5024863102539076 Time elapsed: 0:08:40.019692\n",
      "C =  1e-35 best_c =  1e-20 0.502862451874271 Time elapsed: 0:08:42.385527\n",
      "C =  1e-34 best_c =  1e-20 0.5041107142174264 Time elapsed: 0:08:44.799161\n",
      "C =  1e-33 best_c =  1e-20 0.5 Time elapsed: 0:08:47.158449\n",
      "C =  1e-32 best_c =  1e-20 0.5 Time elapsed: 0:08:49.405301\n",
      "C =  1e-31 best_c =  1e-20 0.5 Time elapsed: 0:08:52.148486\n",
      "C =  1e-30 best_c =  1e-20 0.5 Time elapsed: 0:08:54.872406\n",
      "C =  1e-29 best_c =  1e-20 0.5024329678315279 Time elapsed: 0:08:57.810535\n",
      "C =  1e-28 best_c =  1e-20 0.5134630000080561 Time elapsed: 0:09:01.011981\n",
      "C =  1e-27 best_c =  1e-20 0.5134604270372986 Time elapsed: 0:09:04.358095\n",
      "C =  1e-26 best_c =  1e-20 0.5134688945439222 Time elapsed: 0:09:07.258548\n",
      "C =  1e-25 best_c =  1e-20 0.513482159718801 Time elapsed: 0:09:10.484254\n",
      "C =  1e-24 best_c =  1e-20 0.5134383964711502 Time elapsed: 0:09:14.151016\n",
      "C =  1e-23 best_c =  1e-20 0.5134099138122163 Time elapsed: 0:09:17.382948\n",
      "C =  1e-22 best_c =  1e-20 0.5134322393872123 Time elapsed: 0:09:20.968022\n",
      "C =  1e-21 best_c =  1e-20 0.5134576625198446 Time elapsed: 0:09:24.734294\n",
      "C =  1e-20 best_c =  1e-20 0.51342074991155 Time elapsed: 0:09:28.538049\n",
      "C =  1e-19 best_c =  1e-20 0.5134845495198724 Time elapsed: 0:09:32.171699\n",
      "C =  1e-18 best_c =  1e-20 0.5134503680887427 Time elapsed: 0:09:36.473841\n",
      "C =  1e-17 best_c =  1e-20 0.5134598188536343 Time elapsed: 0:09:40.705880\n",
      "C =  1e-16 best_c =  1e-20 0.5134532510329226 Time elapsed: 0:09:44.883478\n",
      "C =  1e-15 best_c =  1e-20 0.5134522141650003 Time elapsed: 0:09:49.146160\n",
      "C =  1e-14 best_c =  1e-20 0.5134379033797865 Time elapsed: 0:09:53.464586\n",
      "C =  1e-13 best_c =  1e-20 0.5134599773695834 Time elapsed: 0:09:58.123507\n",
      "C =  1e-12 best_c =  1e-20 0.5134613820982523 Time elapsed: 0:10:02.383383\n",
      "C =  1e-11 best_c =  1e-20 0.5134580578027975 Time elapsed: 0:10:06.582519\n",
      "C =  1e-10 best_c =  1e-20 0.5134388897087112 Time elapsed: 0:10:10.294703\n",
      "C =  1e-09 best_c =  1e-20 0.5134636963876222 Time elapsed: 0:10:14.025215\n",
      "C =  1e-08 best_c =  1e-20 0.5134455767556793 Time elapsed: 0:10:17.737515\n",
      "C =  1e-07 best_c =  1e-20 0.5134219624061006 Time elapsed: 0:10:21.835408\n",
      "C =  1e-06 best_c =  1e-20 0.5134534087190652 Time elapsed: 0:10:25.304706\n",
      "C =  1e-05 best_c =  1e-20 0.5134543439041637 Time elapsed: 0:10:29.570252\n",
      "C =  0.0001 best_c =  1e-20 0.5134410325309137 Time elapsed: 0:10:33.798727\n",
      "C =  0.001 best_c =  1e-20 0.5134499581370886 Time elapsed: 0:10:37.733110\n",
      "C =  0.01 best_c =  1e-20 0.5134506102525226 Time elapsed: 0:10:42.311061\n",
      "C =  0.1 best_c =  1e-20 0.5134385958026938 Time elapsed: 0:10:45.984672\n",
      "C =  1.0 best_c =  1e-20 0.5134639046708684 Time elapsed: 0:10:49.598770\n",
      "C =  10.0 best_c =  1e-20 0.5134672791917191 Time elapsed: 0:10:53.216990\n",
      "C =  100.0 best_c =  1e-20 0.5134380642358961 Time elapsed: 0:10:57.556124\n",
      "C =  1000.0 best_c =  1e-20 0.5134502080080023 Time elapsed: 0:11:01.573987\n",
      "C =  10000.0 best_c =  1e-20 0.5134306242298591 Time elapsed: 0:11:05.604503\n",
      "C =  100000.0 best_c =  1e-20 0.5134118196886888 Time elapsed: 0:11:09.413544\n",
      "C =  1000000.0 best_c =  1e-20 0.5134089097880631 Time elapsed: 0:11:13.393098\n",
      "C =  10000000.0 best_c =  1e-20 0.5134285835801371 Time elapsed: 0:11:17.764412\n",
      "C =  100000000.0 best_c =  1e-20 0.5134348480655314 Time elapsed: 0:11:21.873197\n",
      "C =  1000000000.0 best_c =  1e-20 0.5134639426446131 Time elapsed: 0:11:26.176863\n"
     ]
    }
   ],
   "source": [
    "#оцениваем качество логистической регрессии с L2-регуляризацией на выборке без категориальныъх значений \n",
    "test_score = []\n",
    "start_time = datetime.datetime.now()\n",
    "clf = LogisticRegression(penalty='l2', solver='lbfgs')\n",
    "gs = GridSearchCV(clf, grid, cv=cv, scoring='roc_auc')\n",
    "gs.fit(X=no_categorials, y=y)\n",
    "best_c = gs.best_params_['C']\n",
    "print(best_c)\n",
    "for C in grid['C']:\n",
    "    clf_opt_C = LogisticRegression(penalty='l2', C=C, solver='lbfgs')\n",
    "    scores = cross_validate(estimator=clf_opt_C,X=no_categorials,y=y,cv=cv,scoring='roc_auc')\n",
    "    test_score.append(scores['test_score'].mean())\n",
    "    print('C = ', C, 'best_c = ', best_c , scores['test_score'].mean(), 'Time elapsed:', datetime.datetime.now() - start_time)"
   ]
  },
  {
   "cell_type": "code",
   "execution_count": 33,
   "metadata": {},
   "outputs": [
    {
     "data": {
      "text/plain": [
       "[<matplotlib.lines.Line2D at 0x7f685af56b00>]"
      ]
     },
     "execution_count": 33,
     "metadata": {},
     "output_type": "execute_result"
    },
    {
     "data": {
      "image/png": "[encoded data removed]",
      "text/plain": [
       "<Figure size 432x288 with 1 Axes>"
      ]
     },
     "metadata": {
      "needs_background": "light"
     },
     "output_type": "display_data"
    }
   ],
   "source": [
    "pyplot.plot([log(X) for X in grid['C']],test_score )"
   ]
  },
  {
   "cell_type": "code",
   "execution_count": 34,
   "metadata": {},
   "outputs": [],
   "source": [
    "#выбираем уникальные идентификаторы героев\n",
    "heroes = list(np.unique(features[['r1_hero', 'r2_hero','r3_hero','r4_hero', 'r5_hero','d1_hero', 'd2_hero', 'd3_hero', 'd4_hero', 'd5_hero']].values))"
   ]
  },
  {
   "cell_type": "code",
   "execution_count": 35,
   "metadata": {},
   "outputs": [
    {
     "data": {
      "text/plain": [
       "108"
      ]
     },
     "execution_count": 35,
     "metadata": {},
     "output_type": "execute_result"
    }
   ],
   "source": [
    "#уникальных идентификаторов героев - 108\n",
    "len(heroes)"
   ]
  },
  {
   "cell_type": "code",
   "execution_count": 36,
   "metadata": {},
   "outputs": [
    {
     "data": {
      "text/plain": [
       "(97230, 108)"
      ]
     },
     "execution_count": 36,
     "metadata": {},
     "output_type": "execute_result"
    }
   ],
   "source": [
    "#создаем нулевую матрицу для мешка слов\n",
    "X_pick = np.zeros((features.shape[0], 108))\n",
    "X_pick.shape"
   ]
  },
  {
   "cell_type": "code",
   "execution_count": 37,
   "metadata": {},
   "outputs": [],
   "source": [
    "#заполняем нулевую матрицу значениями 1 для игроков Radiant и -1 для Dire\n",
    "for i, match_id in enumerate(features.index):\n",
    "    for p in range(5):\n",
    "        X_pick[i, heroes.index(features.loc[match_id, 'r%d_hero' % (p+1)])] = 1\n",
    "        X_pick[i, heroes.index(features.loc[match_id, 'd%d_hero' % (p+1)])] = -1\n",
    "        "
   ]
  },
  {
   "cell_type": "code",
   "execution_count": 38,
   "metadata": {},
   "outputs": [
    {
     "data": {
      "text/plain": [
       "(97230, 109)"
      ]
     },
     "execution_count": 38,
     "metadata": {},
     "output_type": "execute_result"
    }
   ],
   "source": [
    "#создаем DataFrame для мешка слов\n",
    "heroes_matches = pd.DataFrame(X_pick, columns=heroes)\n",
    "heroes_matches['match_id'] = features.index\n",
    "heroes_matches.shape"
   ]
  },
  {
   "cell_type": "code",
   "execution_count": 39,
   "metadata": {},
   "outputs": [],
   "source": [
    "#добавлем индекс с идентификатором матча для последующего обьединения с тренировочной выборкой\n",
    "heroes_matches.index  = heroes_matches['match_id']"
   ]
  },
  {
   "cell_type": "code",
   "execution_count": 40,
   "metadata": {},
   "outputs": [],
   "source": [
    "#объединяем мешок слов с тренировочной выборкой без категориальных признаков\n",
    "no_categorials_heroes = no_categorials.merge(heroes_matches, left_index=True, right_index=True)"
   ]
  },
  {
   "cell_type": "code",
   "execution_count": 41,
   "metadata": {},
   "outputs": [
    {
     "data": {
      "text/plain": [
       "start_time    97230\n",
       "r1_level      97230\n",
       "r1_xp         97230\n",
       "r1_gold       97230\n",
       "r1_lh         97230\n",
       "r1_kills      97230\n",
       "r1_deaths     97230\n",
       "r1_items      97230\n",
       "r2_level      97230\n",
       "r2_xp         97230\n",
       "r2_gold       97230\n",
       "r2_lh         97230\n",
       "r2_kills      97230\n",
       "r2_deaths     97230\n",
       "r2_items      97230\n",
       "r3_level      97230\n",
       "r3_xp         97230\n",
       "r3_gold       97230\n",
       "r3_lh         97230\n",
       "r3_kills      97230\n",
       "r3_deaths     97230\n",
       "r3_items      97230\n",
       "r4_level      97230\n",
       "r4_xp         97230\n",
       "r4_gold       97230\n",
       "r4_lh         97230\n",
       "r4_kills      97230\n",
       "r4_deaths     97230\n",
       "r4_items      97230\n",
       "r5_level      97230\n",
       "              ...  \n",
       "81            97230\n",
       "82            97230\n",
       "83            97230\n",
       "84            97230\n",
       "85            97230\n",
       "86            97230\n",
       "87            97230\n",
       "88            97230\n",
       "89            97230\n",
       "90            97230\n",
       "91            97230\n",
       "92            97230\n",
       "93            97230\n",
       "94            97230\n",
       "95            97230\n",
       "96            97230\n",
       "97            97230\n",
       "98            97230\n",
       "99            97230\n",
       "100           97230\n",
       "101           97230\n",
       "102           97230\n",
       "103           97230\n",
       "104           97230\n",
       "105           97230\n",
       "106           97230\n",
       "109           97230\n",
       "110           97230\n",
       "112           97230\n",
       "match_id      97230\n",
       "Length: 206, dtype: int64"
      ]
     },
     "execution_count": 41,
     "metadata": {},
     "output_type": "execute_result"
    }
   ],
   "source": [
    "##для логистической регресии заполняем пропуски значениями 0\n",
    "no_categorials_heroes.fillna(inplace=True, value = 0)\n",
    "no_categorials_heroes.count()"
   ]
  },
  {
   "cell_type": "code",
   "execution_count": 42,
   "metadata": {},
   "outputs": [
    {
     "name": "stdout",
     "output_type": "stream",
     "text": [
      "1e-20\n",
      "C =  1e-100 best_c =  1e-20 0.5 Time elapsed: 0:11:33.407810\n",
      "C =  1e-99 best_c =  1e-20 0.5 Time elapsed: 0:11:38.544517\n",
      "C =  1e-98 best_c =  1e-20 0.5 Time elapsed: 0:11:44.523282\n",
      "C =  1e-97 best_c =  1e-20 0.5 Time elapsed: 0:11:49.453615\n",
      "C =  1e-96 best_c =  1e-20 0.5 Time elapsed: 0:11:53.916907\n",
      "C =  1e-95 best_c =  1e-20 0.5 Time elapsed: 0:11:59.109666\n",
      "C =  1e-94 best_c =  1e-20 0.5 Time elapsed: 0:12:04.149018\n",
      "C =  1e-93 best_c =  1e-20 0.5 Time elapsed: 0:12:09.837759\n",
      "C =  1e-92 best_c =  1e-20 0.5 Time elapsed: 0:12:15.738179\n",
      "C =  1e-91 best_c =  1e-20 0.5 Time elapsed: 0:12:21.448365\n",
      "C =  1e-90 best_c =  1e-20 0.5 Time elapsed: 0:12:27.835768\n",
      "C =  1e-89 best_c =  1e-20 0.5 Time elapsed: 0:12:33.930197\n",
      "C =  1e-88 best_c =  1e-20 0.5 Time elapsed: 0:12:39.060397\n",
      "C =  1e-87 best_c =  1e-20 0.5 Time elapsed: 0:12:44.673421\n",
      "C =  1e-86 best_c =  1e-20 0.5 Time elapsed: 0:12:50.013019\n",
      "C =  1e-85 best_c =  1e-20 0.5 Time elapsed: 0:12:54.775409\n",
      "C =  1e-84 best_c =  1e-20 0.5 Time elapsed: 0:13:00.106551\n",
      "C =  1e-83 best_c =  1e-20 0.5 Time elapsed: 0:13:05.334155\n",
      "C =  1e-82 best_c =  1e-20 0.5 Time elapsed: 0:13:10.472654\n",
      "C =  1e-81 best_c =  1e-20 0.5 Time elapsed: 0:13:15.971076\n",
      "C =  1e-80 best_c =  1e-20 0.5 Time elapsed: 0:13:21.770015\n",
      "C =  1e-79 best_c =  1e-20 0.5 Time elapsed: 0:13:27.032078\n",
      "C =  1e-78 best_c =  1e-20 0.5 Time elapsed: 0:13:33.312331\n",
      "C =  1e-77 best_c =  1e-20 0.5 Time elapsed: 0:13:39.621555\n",
      "C =  1e-76 best_c =  1e-20 0.5 Time elapsed: 0:13:46.330606\n",
      "C =  1e-75 best_c =  1e-20 0.5 Time elapsed: 0:13:52.376791\n",
      "C =  1e-74 best_c =  1e-20 0.5 Time elapsed: 0:13:58.330596\n",
      "C =  1e-73 best_c =  1e-20 0.5 Time elapsed: 0:14:03.645127\n",
      "C =  1e-72 best_c =  1e-20 0.5 Time elapsed: 0:14:08.859902\n",
      "C =  1e-71 best_c =  1e-20 0.5 Time elapsed: 0:14:14.572073\n",
      "C =  1e-70 best_c =  1e-20 0.5 Time elapsed: 0:14:20.515826\n",
      "C =  1e-69 best_c =  1e-20 0.5 Time elapsed: 0:14:26.525321\n",
      "C =  1e-68 best_c =  1e-20 0.5 Time elapsed: 0:14:32.416671\n",
      "C =  1e-67 best_c =  1e-20 0.5 Time elapsed: 0:14:38.462079\n",
      "C =  1e-66 best_c =  1e-20 0.5 Time elapsed: 0:14:44.186918\n",
      "C =  1e-65 best_c =  1e-20 0.5 Time elapsed: 0:14:49.849924\n",
      "C =  1e-64 best_c =  1e-20 0.5 Time elapsed: 0:14:55.509949\n",
      "C =  1e-63 best_c =  1e-20 0.5 Time elapsed: 0:15:01.221725\n",
      "C =  1e-62 best_c =  1e-20 0.5 Time elapsed: 0:15:06.228942\n",
      "C =  1e-61 best_c =  1e-20 0.5 Time elapsed: 0:15:11.166394\n",
      "C =  1e-60 best_c =  1e-20 0.5 Time elapsed: 0:15:16.198112\n",
      "C =  1e-59 best_c =  1e-20 0.5 Time elapsed: 0:15:21.012926\n",
      "C =  1e-58 best_c =  1e-20 0.5 Time elapsed: 0:15:26.082799\n",
      "C =  1e-57 best_c =  1e-20 0.5 Time elapsed: 0:15:31.267944\n",
      "C =  1e-56 best_c =  1e-20 0.5 Time elapsed: 0:15:36.450610\n",
      "C =  1e-55 best_c =  1e-20 0.5 Time elapsed: 0:15:42.172390\n",
      "C =  1e-54 best_c =  1e-20 0.5 Time elapsed: 0:15:47.492350\n",
      "C =  1e-53 best_c =  1e-20 0.5 Time elapsed: 0:15:52.814848\n",
      "C =  1e-52 best_c =  1e-20 0.5 Time elapsed: 0:15:58.679804\n",
      "C =  1e-51 best_c =  1e-20 0.5 Time elapsed: 0:16:04.362517\n",
      "C =  1e-50 best_c =  1e-20 0.5 Time elapsed: 0:16:10.443775\n",
      "C =  1e-49 best_c =  1e-20 0.5 Time elapsed: 0:16:16.259562\n",
      "C =  1e-48 best_c =  1e-20 0.5 Time elapsed: 0:16:22.499558\n",
      "C =  1e-47 best_c =  1e-20 0.5 Time elapsed: 0:16:30.119585\n",
      "C =  1e-46 best_c =  1e-20 0.5 Time elapsed: 0:16:37.039503\n",
      "C =  1e-45 best_c =  1e-20 0.5 Time elapsed: 0:16:43.182074\n",
      "C =  1e-44 best_c =  1e-20 0.503505349868999 Time elapsed: 0:16:49.425542\n",
      "C =  1e-43 best_c =  1e-20 0.5 Time elapsed: 0:16:55.500382\n",
      "C =  1e-42 best_c =  1e-20 0.5 Time elapsed: 0:17:01.768690\n",
      "C =  1e-41 best_c =  1e-20 0.5 Time elapsed: 0:17:07.534430\n",
      "C =  1e-40 best_c =  1e-20 0.503206977463064 Time elapsed: 0:17:13.881636\n",
      "C =  1e-39 best_c =  1e-20 0.5 Time elapsed: 0:17:19.883548\n",
      "C =  1e-38 best_c =  1e-20 0.5 Time elapsed: 0:17:25.901401\n",
      "C =  1e-37 best_c =  1e-20 0.5 Time elapsed: 0:17:32.641697\n",
      "C =  1e-36 best_c =  1e-20 0.5 Time elapsed: 0:17:38.830349\n",
      "C =  1e-35 best_c =  1e-20 0.5 Time elapsed: 0:17:45.123512\n",
      "C =  1e-34 best_c =  1e-20 0.5035142723808248 Time elapsed: 0:17:51.127651\n",
      "C =  1e-33 best_c =  1e-20 0.502378004733002 Time elapsed: 0:17:56.434535\n",
      "C =  1e-32 best_c =  1e-20 0.5 Time elapsed: 0:18:01.319476\n",
      "C =  1e-31 best_c =  1e-20 0.5053112062326377 Time elapsed: 0:18:06.032286\n",
      "C =  1e-30 best_c =  1e-20 0.5 Time elapsed: 0:18:10.577726\n",
      "C =  1e-29 best_c =  1e-20 0.5 Time elapsed: 0:18:15.272676\n",
      "C =  1e-28 best_c =  1e-20 0.5134760251821672 Time elapsed: 0:18:20.843121\n",
      "C =  1e-27 best_c =  1e-20 0.5134521108097065 Time elapsed: 0:18:26.233863\n",
      "C =  1e-26 best_c =  1e-20 0.5134625088222627 Time elapsed: 0:18:31.190520\n",
      "C =  1e-25 best_c =  1e-20 0.5134509472530626 Time elapsed: 0:18:36.622519\n",
      "C =  1e-24 best_c =  1e-20 0.513445529681797 Time elapsed: 0:18:43.300406\n",
      "C =  1e-23 best_c =  1e-20 0.5134456391568517 Time elapsed: 0:18:48.829915\n",
      "C =  1e-22 best_c =  1e-20 0.5134418693389303 Time elapsed: 0:18:54.080081\n",
      "C =  1e-21 best_c =  1e-20 0.5134606709247785 Time elapsed: 0:18:59.690593\n",
      "C =  1e-20 best_c =  1e-20 0.5134426802195893 Time elapsed: 0:19:06.726173\n",
      "C =  1e-19 best_c =  1e-20 0.5134501577443132 Time elapsed: 0:19:12.627192\n",
      "C =  1e-18 best_c =  1e-20 0.5134327154850379 Time elapsed: 0:19:19.807266\n",
      "C =  1e-17 best_c =  1e-20 0.5134454562958137 Time elapsed: 0:19:26.621808\n",
      "C =  1e-16 best_c =  1e-20 0.5134679448553917 Time elapsed: 0:19:32.673917\n",
      "C =  1e-15 best_c =  1e-20 0.5134623815166162 Time elapsed: 0:19:39.876603\n",
      "C =  1e-14 best_c =  1e-20 0.5135078620807116 Time elapsed: 0:19:46.764625\n",
      "C =  1e-13 best_c =  1e-20 0.5134724303606047 Time elapsed: 0:19:53.489591\n",
      "C =  1e-12 best_c =  1e-20 0.5134803228939411 Time elapsed: 0:19:59.666953\n",
      "C =  1e-11 best_c =  1e-20 0.513439049343552 Time elapsed: 0:20:06.449829\n",
      "C =  1e-10 best_c =  1e-20 0.5134678644099503 Time elapsed: 0:20:12.738625\n",
      "C =  1e-09 best_c =  1e-20 0.5134567938579219 Time elapsed: 0:20:19.917729\n",
      "C =  1e-08 best_c =  1e-20 0.5134446226267577 Time elapsed: 0:20:28.052295\n",
      "C =  1e-07 best_c =  1e-20 0.5134648426586493 Time elapsed: 0:20:34.437844\n",
      "C =  1e-06 best_c =  1e-20 0.5134471136616611 Time elapsed: 0:20:41.432287\n",
      "C =  1e-05 best_c =  1e-20 0.5134211611010645 Time elapsed: 0:20:48.106737\n",
      "C =  0.0001 best_c =  1e-20 0.5134792835679421 Time elapsed: 0:20:54.592216\n",
      "C =  0.001 best_c =  1e-20 0.5134658420485831 Time elapsed: 0:21:01.253663\n",
      "C =  0.01 best_c =  1e-20 0.5134508872913006 Time elapsed: 0:21:07.821511\n",
      "C =  0.1 best_c =  1e-20 0.5134380703865364 Time elapsed: 0:21:13.688611\n",
      "C =  1.0 best_c =  1e-20 0.5134531385940696 Time elapsed: 0:21:20.264440\n",
      "C =  10.0 best_c =  1e-20 0.5134629324705244 Time elapsed: 0:21:27.013543\n",
      "C =  100.0 best_c =  1e-20 0.5134486610806483 Time elapsed: 0:21:33.379179\n",
      "C =  1000.0 best_c =  1e-20 0.513466433381909 Time elapsed: 0:21:39.690051\n",
      "C =  10000.0 best_c =  1e-20 0.5134434835993626 Time elapsed: 0:21:46.483885\n",
      "C =  100000.0 best_c =  1e-20 0.5134170435693239 Time elapsed: 0:21:52.896590\n",
      "C =  1000000.0 best_c =  1e-20 0.5134726033388899 Time elapsed: 0:21:59.778258\n",
      "C =  10000000.0 best_c =  1e-20 0.5134342160001245 Time elapsed: 0:22:06.227315\n",
      "C =  100000000.0 best_c =  1e-20 0.5134432089518854 Time elapsed: 0:22:12.475420\n",
      "C =  1000000000.0 best_c =  1e-20 0.5134511178146918 Time elapsed: 0:22:18.912473\n"
     ]
    }
   ],
   "source": [
    "#оцениваем качество логистической регрессии с L2-регуляризацией на выборке без категориальныъх значений с добавленным мешком слов\n",
    "test_score = []\n",
    "start_time = datetime.datetime.now()\n",
    "clf = LogisticRegression(penalty='l2', solver='lbfgs')\n",
    "gs = GridSearchCV(clf, grid, cv=cv, scoring='roc_auc')\n",
    "gs.fit(X=no_categorials_heroes, y=y)\n",
    "best_c = gs.best_params_['C']\n",
    "print(best_c)\n",
    "for C in grid['C']:\n",
    "    clf_opt_C = LogisticRegression(penalty='l2', C=C, solver='lbfgs')\n",
    "    scores = cross_validate(estimator=clf_opt_C,X=no_categorials_heroes,y=y,cv=cv,scoring='roc_auc')\n",
    "    test_score.append(scores['test_score'].mean())\n",
    "    print('C = ', C, 'best_c = ', best_c , scores['test_score'].mean(), 'Time elapsed:', datetime.datetime.now() - start_time)"
   ]
  },
  {
   "cell_type": "code",
   "execution_count": 43,
   "metadata": {},
   "outputs": [
    {
     "data": {
      "text/plain": [
       "[<matplotlib.lines.Line2D at 0x7f685af88898>]"
      ]
     },
     "execution_count": 43,
     "metadata": {},
     "output_type": "execute_result"
    },
    {
     "data": {
      "image/png": "[encoded data removed]",
      "text/plain": [
       "<Figure size 432x288 with 1 Axes>"
      ]
     },
     "metadata": {
      "needs_background": "light"
     },
     "output_type": "display_data"
    }
   ],
   "source": [
    "pyplot.plot([log(X) for X in grid['C']],test_score )"
   ]
  },
  {
   "cell_type": "code",
   "execution_count": 44,
   "metadata": {},
   "outputs": [],
   "source": [
    "#считываем таблицу с тестовой выборкой\n",
    "X_test = pd.read_csv('features_test.csv', index_col='match_id') "
   ]
  },
  {
   "cell_type": "code",
   "execution_count": 45,
   "metadata": {},
   "outputs": [],
   "source": [
    "#лучшее качество показал градиентный бустинг, пропуски заполняем значением -1\n",
    "X_test.fillna(inplace=True, value =-1)"
   ]
  },
  {
   "cell_type": "code",
   "execution_count": 46,
   "metadata": {},
   "outputs": [],
   "source": [
    "#обучаем классификатор на тренировочной выборке со значением параметра n_estimators=100, предсказываем значения для тестовой выборки\n",
    "best_clf = GradientBoostingClassifier(n_estimators=100)\n",
    "best_clf.fit(X=X,y=y)\n",
    "pred = best_clf.predict_proba(X_test)"
   ]
  },
  {
   "cell_type": "code",
   "execution_count": 47,
   "metadata": {},
   "outputs": [],
   "source": [
    "#формируем строку с результатами предсказаний\n",
    "match_pred = ''\n",
    "for i in range(len(pred[:, 1])): \n",
    "    match_pred +='{0}, {1}\\n'.format(X_test.index[i], pred[:, 1][i])    "
   ]
  },
  {
   "cell_type": "code",
   "execution_count": 48,
   "metadata": {},
   "outputs": [],
   "source": [
    "#выгружаем результаты предсказаний в файл\n",
    "with open('pred.csv','w') as f:\n",
    "    f.write(match_pred)"
   ]
  },
  {
   "cell_type": "code",
   "execution_count": null,
   "metadata": {},
   "outputs": [],
   "source": []
  }
 ],
 "metadata": {
  "kernelspec": {
   "display_name": "Python 3.6",
   "language": "python",
   "name": "python36"
  },
  "language_info": {
   "codemirror_mode": {
    "name": "ipython",
    "version": 3
   },
   "file_extension": ".py",
   "mimetype": "text/x-python",
   "name": "python",
   "nbconvert_exporter": "python",
   "pygments_lexer": "ipython3",
   "version": "3.6.6"
  }
 },
 "nbformat": 4,
 "nbformat_minor": 2
}
