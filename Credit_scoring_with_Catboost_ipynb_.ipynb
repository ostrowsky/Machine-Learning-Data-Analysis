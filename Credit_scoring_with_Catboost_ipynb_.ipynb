{
  "cells": [
    {
      "cell_type": "code",
      "execution_count": null,
      "metadata": {
        "id": "Ysu5ZCSuJ4qo"
      },
      "outputs": [],
      "source": [
        "import pandas as pd\n",
        "import numpy as np"
      ]
    },
    {
      "cell_type": "code",
      "execution_count": null,
      "metadata": {
        "id": "VdYHG8yEKkJ9"
      },
      "outputs": [],
      "source": [
        "import requests\n",
        "from urllib.parse import urlencode\n",
        "base_url = 'https://cloud-api.yandex.net/v1/disk/public/resources/download?'\n",
        "public_key = 'https://disk.yandex.ru/d/K1cxGrw1KDmBsg'  # Сюда вписываете вашу ссылку\n",
        "# Получаем загрузочную ссылку\n",
        "final_url = base_url + urlencode(dict(public_key=public_key))\n",
        "response = requests.get(final_url)\n",
        "download_url = response.json()['href']\n",
        "# Загружаем файл и сохраняем его\n",
        "download_response = requests.get(download_url)\n",
        "\n",
        "with open('base.zip', 'wb') as f:   # Здесь укажите нужный путь к файлу\n",
        "    f.write(download_response.content)\n",
        "\n",
        "del download_response # удаляем, для освобождения оперативной памяти\n",
        "\n"
      ]
    },
    {
      "cell_type": "code",
      "execution_count": null,
      "metadata": {
        "colab": {
          "base_uri": "https://localhost:8080/"
        },
        "id": "4Q6fLMANN06O",
        "outputId": "51edde40-ed0d-4de5-bb43-30dd0bafaa16"
      },
      "outputs": [
        {
          "output_type": "stream",
          "name": "stdout",
          "text": [
            "Archive:  /content/base.zip\n",
            "  inflating: /content/dataset/MIiF_Кредитный скоринг/description.xlsx  \n",
            "  inflating: /content/dataset/MIiF_Кредитный скоринг/sample_submission.csv  \n",
            "  inflating: /content/dataset/MIiF_Кредитный скоринг/test_data/test_data_0.pq  \n",
            "  inflating: /content/dataset/MIiF_Кредитный скоринг/test_data/test_data_1.pq  \n",
            "  inflating: /content/dataset/MIiF_Кредитный скоринг/test_target.csv  \n",
            "  inflating: /content/dataset/MIiF_Кредитный скоринг/train_data/train_data_0.pq  \n",
            "  inflating: /content/dataset/MIiF_Кредитный скоринг/train_data/train_data_1.pq  \n",
            "  inflating: /content/dataset/MIiF_Кредитный скоринг/train_data/train_data_10.pq  \n",
            "  inflating: /content/dataset/MIiF_Кредитный скоринг/train_data/train_data_11.pq  \n",
            "  inflating: /content/dataset/MIiF_Кредитный скоринг/train_data/train_data_2.pq  \n",
            "  inflating: /content/dataset/MIiF_Кредитный скоринг/train_data/train_data_3.pq  \n",
            "  inflating: /content/dataset/MIiF_Кредитный скоринг/train_data/train_data_4.pq  \n",
            "  inflating: /content/dataset/MIiF_Кредитный скоринг/train_data/train_data_5.pq  \n",
            "  inflating: /content/dataset/MIiF_Кредитный скоринг/train_data/train_data_6.pq  \n",
            "  inflating: /content/dataset/MIiF_Кредитный скоринг/train_data/train_data_7.pq  \n",
            "  inflating: /content/dataset/MIiF_Кредитный скоринг/train_data/train_data_8.pq  \n",
            "  inflating: /content/dataset/MIiF_Кредитный скоринг/train_data/train_data_9.pq  \n",
            "  inflating: /content/dataset/MIiF_Кредитный скоринг/train_target.csv  \n"
          ]
        }
      ],
      "source": [
        "!unzip \"/content/base.zip\" -d \"/content/dataset/\""
      ]
    },
    {
      "cell_type": "code",
      "execution_count": null,
      "metadata": {
        "colab": {
          "base_uri": "https://localhost:8080/"
        },
        "id": "f9ytADYTnKeV",
        "outputId": "0ddbf457-8854-49eb-84de-1b6965d32d40"
      },
      "outputs": [
        {
          "output_type": "stream",
          "name": "stdout",
          "text": [
            "Requirement already satisfied: pyarrow in /usr/local/lib/python3.10/dist-packages (15.0.2)\n",
            "Requirement already satisfied: numpy<2,>=1.16.6 in /usr/local/lib/python3.10/dist-packages (from pyarrow) (1.25.2)\n"
          ]
        }
      ],
      "source": [
        "! pip install pyarrow"
      ]
    },
    {
      "cell_type": "code",
      "execution_count": null,
      "metadata": {
        "id": "9n85vcplOS3i"
      },
      "outputs": [],
      "source": [
        "train = pd.read_parquet('/content/dataset/MIiF_Кредитный скоринг/train_data')"
      ]
    },
    {
      "cell_type": "code",
      "execution_count": null,
      "metadata": {
        "id": "E-ACSzuzEadb"
      },
      "outputs": [],
      "source": [
        "test = pd.read_parquet('/content/dataset/MIiF_Кредитный скоринг/test_data')"
      ]
    },
    {
      "cell_type": "code",
      "execution_count": null,
      "metadata": {
        "colab": {
          "base_uri": "https://localhost:8080/"
        },
        "id": "sbOc02YMnlp4",
        "outputId": "da456531-5463-4ac1-dc6e-6005deff314d"
      },
      "outputs": [
        {
          "output_type": "execute_result",
          "data": {
            "text/plain": [
              "(26162717, 61)"
            ]
          },
          "metadata": {},
          "execution_count": 9
        }
      ],
      "source": [
        "train.shape"
      ]
    },
    {
      "cell_type": "code",
      "execution_count": null,
      "metadata": {
        "colab": {
          "base_uri": "https://localhost:8080/"
        },
        "id": "lIjfdBvcOzzF",
        "outputId": "b9136790-b117-4295-9ef0-d29241c596ad"
      },
      "outputs": [
        {
          "output_type": "execute_result",
          "data": {
            "text/plain": [
              "(4724601, 61)"
            ]
          },
          "metadata": {},
          "execution_count": 10
        }
      ],
      "source": [
        "test.shape"
      ]
    },
    {
      "cell_type": "code",
      "source": [
        "train.describe()"
      ],
      "metadata": {
        "colab": {
          "base_uri": "https://localhost:8080/",
          "height": 349
        },
        "id": "9Dm1k7RM1fcT",
        "outputId": "cf77fa64-c5d1-4754-ff6e-fe2746962565"
      },
      "execution_count": null,
      "outputs": [
        {
          "output_type": "execute_result",
          "data": {
            "text/plain": [
              "                 id            rn  pre_since_opened  pre_since_confirmed  \\\n",
              "count  2.616272e+07  2.616272e+07      2.616272e+07         2.616272e+07   \n",
              "mean   1.545557e+06  7.047498e+00      9.363455e+00         8.223857e+00   \n",
              "std    8.679880e+05  5.396749e+00      5.775058e+00         4.713167e+00   \n",
              "min    0.000000e+00  1.000000e+00      0.000000e+00         0.000000e+00   \n",
              "25%    7.949020e+05  3.000000e+00      4.000000e+00         4.000000e+00   \n",
              "50%    1.568512e+06  6.000000e+00      9.000000e+00         9.000000e+00   \n",
              "75%    2.303681e+06  1.000000e+01      1.400000e+01         1.200000e+01   \n",
              "max    2.999999e+06  5.800000e+01      1.900000e+01         1.700000e+01   \n",
              "\n",
              "          pre_pterm     pre_fterm  pre_till_pclose  pre_till_fclose  \\\n",
              "count  2.616272e+07  2.616272e+07     2.616272e+07     2.616272e+07   \n",
              "mean   8.365817e+00  8.330814e+00     7.140610e+00     8.362821e+00   \n",
              "std    5.324534e+00  4.477978e+00     5.152379e+00     4.223331e+00   \n",
              "min    0.000000e+00  0.000000e+00     0.000000e+00     0.000000e+00   \n",
              "25%    4.000000e+00  6.000000e+00     2.000000e+00     5.000000e+00   \n",
              "50%    8.000000e+00  8.000000e+00     7.000000e+00     1.000000e+01   \n",
              "75%    1.400000e+01  1.200000e+01     1.200000e+01     1.100000e+01   \n",
              "max    1.700000e+01  1.600000e+01     1.600000e+01     1.500000e+01   \n",
              "\n",
              "       pre_loans_credit_limit  pre_loans_next_pay_summ  ...   enc_paym_21  \\\n",
              "count            2.616272e+07             2.616272e+07  ...  2.616272e+07   \n",
              "mean             9.676587e+00             2.363715e+00  ...  2.316090e+00   \n",
              "std              5.827325e+00             1.310304e+00  ...  1.245876e+00   \n",
              "min              0.000000e+00             0.000000e+00  ...  0.000000e+00   \n",
              "25%              5.000000e+00             2.000000e+00  ...  3.000000e+00   \n",
              "50%              1.000000e+01             2.000000e+00  ...  3.000000e+00   \n",
              "75%              1.500000e+01             2.000000e+00  ...  3.000000e+00   \n",
              "max              1.900000e+01             6.000000e+00  ...  3.000000e+00   \n",
              "\n",
              "        enc_paym_22   enc_paym_23   enc_paym_24  \\\n",
              "count  2.616272e+07  2.616272e+07  2.616272e+07   \n",
              "mean   2.347714e+00  2.381380e+00  3.530334e+00   \n",
              "std    1.225234e+00  1.202013e+00  1.080402e+00   \n",
              "min    0.000000e+00  0.000000e+00  1.000000e+00   \n",
              "25%    3.000000e+00  3.000000e+00  4.000000e+00   \n",
              "50%    3.000000e+00  3.000000e+00  4.000000e+00   \n",
              "75%    3.000000e+00  3.000000e+00  4.000000e+00   \n",
              "max    3.000000e+00  3.000000e+00  4.000000e+00   \n",
              "\n",
              "       enc_loans_account_holder_type  enc_loans_credit_status  \\\n",
              "count                   2.616272e+07             2.616272e+07   \n",
              "mean                    1.034107e+00             2.693111e+00   \n",
              "std                     3.048805e-01             4.997517e-01   \n",
              "min                     0.000000e+00             0.000000e+00   \n",
              "25%                     1.000000e+00             2.000000e+00   \n",
              "50%                     1.000000e+00             3.000000e+00   \n",
              "75%                     1.000000e+00             3.000000e+00   \n",
              "max                     6.000000e+00             6.000000e+00   \n",
              "\n",
              "       enc_loans_credit_type  enc_loans_account_cur   pclose_flag  \\\n",
              "count           2.616272e+07           2.616272e+07  2.616272e+07   \n",
              "mean            3.519057e+00           1.001717e+00  1.491979e-01   \n",
              "std             1.037642e+00           4.880076e-02  3.562835e-01   \n",
              "min             0.000000e+00           0.000000e+00  0.000000e+00   \n",
              "25%             3.000000e+00           1.000000e+00  0.000000e+00   \n",
              "50%             4.000000e+00           1.000000e+00  0.000000e+00   \n",
              "75%             4.000000e+00           1.000000e+00  0.000000e+00   \n",
              "max             7.000000e+00           3.000000e+00  1.000000e+00   \n",
              "\n",
              "        fclose_flag  \n",
              "count  2.616272e+07  \n",
              "mean   2.289680e-01  \n",
              "std    4.201686e-01  \n",
              "min    0.000000e+00  \n",
              "25%    0.000000e+00  \n",
              "50%    0.000000e+00  \n",
              "75%    0.000000e+00  \n",
              "max    1.000000e+00  \n",
              "\n",
              "[8 rows x 61 columns]"
            ],
            "text/html": [
              "\n",
              "  <div id=\"df-7b347548-8a9c-4ace-8b87-9eb683db35f0\" class=\"colab-df-container\">\n",
              "    <div>\n",
              "<style scoped>\n",
              "    .dataframe tbody tr th:only-of-type {\n",
              "        vertical-align: middle;\n",
              "    }\n",
              "\n",
              "    .dataframe tbody tr th {\n",
              "        vertical-align: top;\n",
              "    }\n",
              "\n",
              "    .dataframe thead th {\n",
              "        text-align: right;\n",
              "    }\n",
              "</style>\n",
              "<table border=\"1\" class=\"dataframe\">\n",
              "  <thead>\n",
              "    <tr style=\"text-align: right;\">\n",
              "      <th></th>\n",
              "      <th>id</th>\n",
              "      <th>rn</th>\n",
              "      <th>pre_since_opened</th>\n",
              "      <th>pre_since_confirmed</th>\n",
              "      <th>pre_pterm</th>\n",
              "      <th>pre_fterm</th>\n",
              "      <th>pre_till_pclose</th>\n",
              "      <th>pre_till_fclose</th>\n",
              "      <th>pre_loans_credit_limit</th>\n",
              "      <th>pre_loans_next_pay_summ</th>\n",
              "      <th>...</th>\n",
              "      <th>enc_paym_21</th>\n",
              "      <th>enc_paym_22</th>\n",
              "      <th>enc_paym_23</th>\n",
              "      <th>enc_paym_24</th>\n",
              "      <th>enc_loans_account_holder_type</th>\n",
              "      <th>enc_loans_credit_status</th>\n",
              "      <th>enc_loans_credit_type</th>\n",
              "      <th>enc_loans_account_cur</th>\n",
              "      <th>pclose_flag</th>\n",
              "      <th>fclose_flag</th>\n",
              "    </tr>\n",
              "  </thead>\n",
              "  <tbody>\n",
              "    <tr>\n",
              "      <th>count</th>\n",
              "      <td>2.616272e+07</td>\n",
              "      <td>2.616272e+07</td>\n",
              "      <td>2.616272e+07</td>\n",
              "      <td>2.616272e+07</td>\n",
              "      <td>2.616272e+07</td>\n",
              "      <td>2.616272e+07</td>\n",
              "      <td>2.616272e+07</td>\n",
              "      <td>2.616272e+07</td>\n",
              "      <td>2.616272e+07</td>\n",
              "      <td>2.616272e+07</td>\n",
              "      <td>...</td>\n",
              "      <td>2.616272e+07</td>\n",
              "      <td>2.616272e+07</td>\n",
              "      <td>2.616272e+07</td>\n",
              "      <td>2.616272e+07</td>\n",
              "      <td>2.616272e+07</td>\n",
              "      <td>2.616272e+07</td>\n",
              "      <td>2.616272e+07</td>\n",
              "      <td>2.616272e+07</td>\n",
              "      <td>2.616272e+07</td>\n",
              "      <td>2.616272e+07</td>\n",
              "    </tr>\n",
              "    <tr>\n",
              "      <th>mean</th>\n",
              "      <td>1.545557e+06</td>\n",
              "      <td>7.047498e+00</td>\n",
              "      <td>9.363455e+00</td>\n",
              "      <td>8.223857e+00</td>\n",
              "      <td>8.365817e+00</td>\n",
              "      <td>8.330814e+00</td>\n",
              "      <td>7.140610e+00</td>\n",
              "      <td>8.362821e+00</td>\n",
              "      <td>9.676587e+00</td>\n",
              "      <td>2.363715e+00</td>\n",
              "      <td>...</td>\n",
              "      <td>2.316090e+00</td>\n",
              "      <td>2.347714e+00</td>\n",
              "      <td>2.381380e+00</td>\n",
              "      <td>3.530334e+00</td>\n",
              "      <td>1.034107e+00</td>\n",
              "      <td>2.693111e+00</td>\n",
              "      <td>3.519057e+00</td>\n",
              "      <td>1.001717e+00</td>\n",
              "      <td>1.491979e-01</td>\n",
              "      <td>2.289680e-01</td>\n",
              "    </tr>\n",
              "    <tr>\n",
              "      <th>std</th>\n",
              "      <td>8.679880e+05</td>\n",
              "      <td>5.396749e+00</td>\n",
              "      <td>5.775058e+00</td>\n",
              "      <td>4.713167e+00</td>\n",
              "      <td>5.324534e+00</td>\n",
              "      <td>4.477978e+00</td>\n",
              "      <td>5.152379e+00</td>\n",
              "      <td>4.223331e+00</td>\n",
              "      <td>5.827325e+00</td>\n",
              "      <td>1.310304e+00</td>\n",
              "      <td>...</td>\n",
              "      <td>1.245876e+00</td>\n",
              "      <td>1.225234e+00</td>\n",
              "      <td>1.202013e+00</td>\n",
              "      <td>1.080402e+00</td>\n",
              "      <td>3.048805e-01</td>\n",
              "      <td>4.997517e-01</td>\n",
              "      <td>1.037642e+00</td>\n",
              "      <td>4.880076e-02</td>\n",
              "      <td>3.562835e-01</td>\n",
              "      <td>4.201686e-01</td>\n",
              "    </tr>\n",
              "    <tr>\n",
              "      <th>min</th>\n",
              "      <td>0.000000e+00</td>\n",
              "      <td>1.000000e+00</td>\n",
              "      <td>0.000000e+00</td>\n",
              "      <td>0.000000e+00</td>\n",
              "      <td>0.000000e+00</td>\n",
              "      <td>0.000000e+00</td>\n",
              "      <td>0.000000e+00</td>\n",
              "      <td>0.000000e+00</td>\n",
              "      <td>0.000000e+00</td>\n",
              "      <td>0.000000e+00</td>\n",
              "      <td>...</td>\n",
              "      <td>0.000000e+00</td>\n",
              "      <td>0.000000e+00</td>\n",
              "      <td>0.000000e+00</td>\n",
              "      <td>1.000000e+00</td>\n",
              "      <td>0.000000e+00</td>\n",
              "      <td>0.000000e+00</td>\n",
              "      <td>0.000000e+00</td>\n",
              "      <td>0.000000e+00</td>\n",
              "      <td>0.000000e+00</td>\n",
              "      <td>0.000000e+00</td>\n",
              "    </tr>\n",
              "    <tr>\n",
              "      <th>25%</th>\n",
              "      <td>7.949020e+05</td>\n",
              "      <td>3.000000e+00</td>\n",
              "      <td>4.000000e+00</td>\n",
              "      <td>4.000000e+00</td>\n",
              "      <td>4.000000e+00</td>\n",
              "      <td>6.000000e+00</td>\n",
              "      <td>2.000000e+00</td>\n",
              "      <td>5.000000e+00</td>\n",
              "      <td>5.000000e+00</td>\n",
              "      <td>2.000000e+00</td>\n",
              "      <td>...</td>\n",
              "      <td>3.000000e+00</td>\n",
              "      <td>3.000000e+00</td>\n",
              "      <td>3.000000e+00</td>\n",
              "      <td>4.000000e+00</td>\n",
              "      <td>1.000000e+00</td>\n",
              "      <td>2.000000e+00</td>\n",
              "      <td>3.000000e+00</td>\n",
              "      <td>1.000000e+00</td>\n",
              "      <td>0.000000e+00</td>\n",
              "      <td>0.000000e+00</td>\n",
              "    </tr>\n",
              "    <tr>\n",
              "      <th>50%</th>\n",
              "      <td>1.568512e+06</td>\n",
              "      <td>6.000000e+00</td>\n",
              "      <td>9.000000e+00</td>\n",
              "      <td>9.000000e+00</td>\n",
              "      <td>8.000000e+00</td>\n",
              "      <td>8.000000e+00</td>\n",
              "      <td>7.000000e+00</td>\n",
              "      <td>1.000000e+01</td>\n",
              "      <td>1.000000e+01</td>\n",
              "      <td>2.000000e+00</td>\n",
              "      <td>...</td>\n",
              "      <td>3.000000e+00</td>\n",
              "      <td>3.000000e+00</td>\n",
              "      <td>3.000000e+00</td>\n",
              "      <td>4.000000e+00</td>\n",
              "      <td>1.000000e+00</td>\n",
              "      <td>3.000000e+00</td>\n",
              "      <td>4.000000e+00</td>\n",
              "      <td>1.000000e+00</td>\n",
              "      <td>0.000000e+00</td>\n",
              "      <td>0.000000e+00</td>\n",
              "    </tr>\n",
              "    <tr>\n",
              "      <th>75%</th>\n",
              "      <td>2.303681e+06</td>\n",
              "      <td>1.000000e+01</td>\n",
              "      <td>1.400000e+01</td>\n",
              "      <td>1.200000e+01</td>\n",
              "      <td>1.400000e+01</td>\n",
              "      <td>1.200000e+01</td>\n",
              "      <td>1.200000e+01</td>\n",
              "      <td>1.100000e+01</td>\n",
              "      <td>1.500000e+01</td>\n",
              "      <td>2.000000e+00</td>\n",
              "      <td>...</td>\n",
              "      <td>3.000000e+00</td>\n",
              "      <td>3.000000e+00</td>\n",
              "      <td>3.000000e+00</td>\n",
              "      <td>4.000000e+00</td>\n",
              "      <td>1.000000e+00</td>\n",
              "      <td>3.000000e+00</td>\n",
              "      <td>4.000000e+00</td>\n",
              "      <td>1.000000e+00</td>\n",
              "      <td>0.000000e+00</td>\n",
              "      <td>0.000000e+00</td>\n",
              "    </tr>\n",
              "    <tr>\n",
              "      <th>max</th>\n",
              "      <td>2.999999e+06</td>\n",
              "      <td>5.800000e+01</td>\n",
              "      <td>1.900000e+01</td>\n",
              "      <td>1.700000e+01</td>\n",
              "      <td>1.700000e+01</td>\n",
              "      <td>1.600000e+01</td>\n",
              "      <td>1.600000e+01</td>\n",
              "      <td>1.500000e+01</td>\n",
              "      <td>1.900000e+01</td>\n",
              "      <td>6.000000e+00</td>\n",
              "      <td>...</td>\n",
              "      <td>3.000000e+00</td>\n",
              "      <td>3.000000e+00</td>\n",
              "      <td>3.000000e+00</td>\n",
              "      <td>4.000000e+00</td>\n",
              "      <td>6.000000e+00</td>\n",
              "      <td>6.000000e+00</td>\n",
              "      <td>7.000000e+00</td>\n",
              "      <td>3.000000e+00</td>\n",
              "      <td>1.000000e+00</td>\n",
              "      <td>1.000000e+00</td>\n",
              "    </tr>\n",
              "  </tbody>\n",
              "</table>\n",
              "<p>8 rows × 61 columns</p>\n",
              "</div>\n",
              "    <div class=\"colab-df-buttons\">\n",
              "\n",
              "  <div class=\"colab-df-container\">\n",
              "    <button class=\"colab-df-convert\" onclick=\"convertToInteractive('df-7b347548-8a9c-4ace-8b87-9eb683db35f0')\"\n",
              "            title=\"Convert this dataframe to an interactive table.\"\n",
              "            style=\"display:none;\">\n",
              "\n",
              "  <svg xmlns=\"http://www.w3.org/2000/svg\" height=\"24px\" viewBox=\"0 -960 960 960\">\n",
              "    <path d=\"M120-120v-720h720v720H120Zm60-500h600v-160H180v160Zm220 220h160v-160H400v160Zm0 220h160v-160H400v160ZM180-400h160v-160H180v160Zm440 0h160v-160H620v160ZM180-180h160v-160H180v160Zm440 0h160v-160H620v160Z\"/>\n",
              "  </svg>\n",
              "    </button>\n",
              "\n",
              "  <style>\n",
              "    .colab-df-container {\n",
              "      display:flex;\n",
              "      gap: 12px;\n",
              "    }\n",
              "\n",
              "    .colab-df-convert {\n",
              "      background-color: #E8F0FE;\n",
              "      border: none;\n",
              "      border-radius: 50%;\n",
              "      cursor: pointer;\n",
              "      display: none;\n",
              "      fill: #1967D2;\n",
              "      height: 32px;\n",
              "      padding: 0 0 0 0;\n",
              "      width: 32px;\n",
              "    }\n",
              "\n",
              "    .colab-df-convert:hover {\n",
              "      background-color: #E2EBFA;\n",
              "      box-shadow: 0px 1px 2px rgba(60, 64, 67, 0.3), 0px 1px 3px 1px rgba(60, 64, 67, 0.15);\n",
              "      fill: #174EA6;\n",
              "    }\n",
              "\n",
              "    .colab-df-buttons div {\n",
              "      margin-bottom: 4px;\n",
              "    }\n",
              "\n",
              "    [theme=dark] .colab-df-convert {\n",
              "      background-color: #3B4455;\n",
              "      fill: #D2E3FC;\n",
              "    }\n",
              "\n",
              "    [theme=dark] .colab-df-convert:hover {\n",
              "      background-color: #434B5C;\n",
              "      box-shadow: 0px 1px 3px 1px rgba(0, 0, 0, 0.15);\n",
              "      filter: drop-shadow(0px 1px 2px rgba(0, 0, 0, 0.3));\n",
              "      fill: #FFFFFF;\n",
              "    }\n",
              "  </style>\n",
              "\n",
              "    <script>\n",
              "      const buttonEl =\n",
              "        document.querySelector('#df-7b347548-8a9c-4ace-8b87-9eb683db35f0 button.colab-df-convert');\n",
              "      buttonEl.style.display =\n",
              "        google.colab.kernel.accessAllowed ? 'block' : 'none';\n",
              "\n",
              "      async function convertToInteractive(key) {\n",
              "        const element = document.querySelector('#df-7b347548-8a9c-4ace-8b87-9eb683db35f0');\n",
              "        const dataTable =\n",
              "          await google.colab.kernel.invokeFunction('convertToInteractive',\n",
              "                                                    [key], {});\n",
              "        if (!dataTable) return;\n",
              "\n",
              "        const docLinkHtml = 'Like what you see? Visit the ' +\n",
              "          '<a target=\"_blank\" href=https://colab.research.google.com/notebooks/data_table.ipynb>data table notebook</a>'\n",
              "          + ' to learn more about interactive tables.';\n",
              "        element.innerHTML = '';\n",
              "        dataTable['output_type'] = 'display_data';\n",
              "        await google.colab.output.renderOutput(dataTable, element);\n",
              "        const docLink = document.createElement('div');\n",
              "        docLink.innerHTML = docLinkHtml;\n",
              "        element.appendChild(docLink);\n",
              "      }\n",
              "    </script>\n",
              "  </div>\n",
              "\n",
              "\n",
              "<div id=\"df-54168c8f-2e21-49c0-8334-ce9d7d7ebf57\">\n",
              "  <button class=\"colab-df-quickchart\" onclick=\"quickchart('df-54168c8f-2e21-49c0-8334-ce9d7d7ebf57')\"\n",
              "            title=\"Suggest charts\"\n",
              "            style=\"display:none;\">\n",
              "\n",
              "<svg xmlns=\"http://www.w3.org/2000/svg\" height=\"24px\"viewBox=\"0 0 24 24\"\n",
              "     width=\"24px\">\n",
              "    <g>\n",
              "        <path d=\"M19 3H5c-1.1 0-2 .9-2 2v14c0 1.1.9 2 2 2h14c1.1 0 2-.9 2-2V5c0-1.1-.9-2-2-2zM9 17H7v-7h2v7zm4 0h-2V7h2v10zm4 0h-2v-4h2v4z\"/>\n",
              "    </g>\n",
              "</svg>\n",
              "  </button>\n",
              "\n",
              "<style>\n",
              "  .colab-df-quickchart {\n",
              "      --bg-color: #E8F0FE;\n",
              "      --fill-color: #1967D2;\n",
              "      --hover-bg-color: #E2EBFA;\n",
              "      --hover-fill-color: #174EA6;\n",
              "      --disabled-fill-color: #AAA;\n",
              "      --disabled-bg-color: #DDD;\n",
              "  }\n",
              "\n",
              "  [theme=dark] .colab-df-quickchart {\n",
              "      --bg-color: #3B4455;\n",
              "      --fill-color: #D2E3FC;\n",
              "      --hover-bg-color: #434B5C;\n",
              "      --hover-fill-color: #FFFFFF;\n",
              "      --disabled-bg-color: #3B4455;\n",
              "      --disabled-fill-color: #666;\n",
              "  }\n",
              "\n",
              "  .colab-df-quickchart {\n",
              "    background-color: var(--bg-color);\n",
              "    border: none;\n",
              "    border-radius: 50%;\n",
              "    cursor: pointer;\n",
              "    display: none;\n",
              "    fill: var(--fill-color);\n",
              "    height: 32px;\n",
              "    padding: 0;\n",
              "    width: 32px;\n",
              "  }\n",
              "\n",
              "  .colab-df-quickchart:hover {\n",
              "    background-color: var(--hover-bg-color);\n",
              "    box-shadow: 0 1px 2px rgba(60, 64, 67, 0.3), 0 1px 3px 1px rgba(60, 64, 67, 0.15);\n",
              "    fill: var(--button-hover-fill-color);\n",
              "  }\n",
              "\n",
              "  .colab-df-quickchart-complete:disabled,\n",
              "  .colab-df-quickchart-complete:disabled:hover {\n",
              "    background-color: var(--disabled-bg-color);\n",
              "    fill: var(--disabled-fill-color);\n",
              "    box-shadow: none;\n",
              "  }\n",
              "\n",
              "  .colab-df-spinner {\n",
              "    border: 2px solid var(--fill-color);\n",
              "    border-color: transparent;\n",
              "    border-bottom-color: var(--fill-color);\n",
              "    animation:\n",
              "      spin 1s steps(1) infinite;\n",
              "  }\n",
              "\n",
              "  @keyframes spin {\n",
              "    0% {\n",
              "      border-color: transparent;\n",
              "      border-bottom-color: var(--fill-color);\n",
              "      border-left-color: var(--fill-color);\n",
              "    }\n",
              "    20% {\n",
              "      border-color: transparent;\n",
              "      border-left-color: var(--fill-color);\n",
              "      border-top-color: var(--fill-color);\n",
              "    }\n",
              "    30% {\n",
              "      border-color: transparent;\n",
              "      border-left-color: var(--fill-color);\n",
              "      border-top-color: var(--fill-color);\n",
              "      border-right-color: var(--fill-color);\n",
              "    }\n",
              "    40% {\n",
              "      border-color: transparent;\n",
              "      border-right-color: var(--fill-color);\n",
              "      border-top-color: var(--fill-color);\n",
              "    }\n",
              "    60% {\n",
              "      border-color: transparent;\n",
              "      border-right-color: var(--fill-color);\n",
              "    }\n",
              "    80% {\n",
              "      border-color: transparent;\n",
              "      border-right-color: var(--fill-color);\n",
              "      border-bottom-color: var(--fill-color);\n",
              "    }\n",
              "    90% {\n",
              "      border-color: transparent;\n",
              "      border-bottom-color: var(--fill-color);\n",
              "    }\n",
              "  }\n",
              "</style>\n",
              "\n",
              "  <script>\n",
              "    async function quickchart(key) {\n",
              "      const quickchartButtonEl =\n",
              "        document.querySelector('#' + key + ' button');\n",
              "      quickchartButtonEl.disabled = true;  // To prevent multiple clicks.\n",
              "      quickchartButtonEl.classList.add('colab-df-spinner');\n",
              "      try {\n",
              "        const charts = await google.colab.kernel.invokeFunction(\n",
              "            'suggestCharts', [key], {});\n",
              "      } catch (error) {\n",
              "        console.error('Error during call to suggestCharts:', error);\n",
              "      }\n",
              "      quickchartButtonEl.classList.remove('colab-df-spinner');\n",
              "      quickchartButtonEl.classList.add('colab-df-quickchart-complete');\n",
              "    }\n",
              "    (() => {\n",
              "      let quickchartButtonEl =\n",
              "        document.querySelector('#df-54168c8f-2e21-49c0-8334-ce9d7d7ebf57 button');\n",
              "      quickchartButtonEl.style.display =\n",
              "        google.colab.kernel.accessAllowed ? 'block' : 'none';\n",
              "    })();\n",
              "  </script>\n",
              "</div>\n",
              "    </div>\n",
              "  </div>\n"
            ],
            "application/vnd.google.colaboratory.intrinsic+json": {
              "type": "dataframe"
            }
          },
          "metadata": {},
          "execution_count": 63
        }
      ]
    },
    {
      "cell_type": "code",
      "execution_count": null,
      "metadata": {
        "colab": {
          "base_uri": "https://localhost:8080/"
        },
        "id": "xmUk4OxpwLnv",
        "outputId": "52a9646d-3832-4bcc-b3ea-bc5d53100f09"
      },
      "outputs": [
        {
          "output_type": "execute_result",
          "data": {
            "text/plain": [
              "58"
            ]
          },
          "metadata": {},
          "execution_count": 11
        }
      ],
      "source": [
        "max_rn = max_rn = train.groupby(['id'])['rn'].count().max()\n",
        "max_rn"
      ]
    },
    {
      "cell_type": "code",
      "execution_count": null,
      "metadata": {
        "colab": {
          "base_uri": "https://localhost:8080/"
        },
        "id": "Ynf2AuR-0btG",
        "outputId": "73db37b2-6a60-4acf-9f94-d77d03bfb25c"
      },
      "outputs": [
        {
          "output_type": "execute_result",
          "data": {
            "text/plain": [
              "57"
            ]
          },
          "metadata": {},
          "execution_count": 12
        }
      ],
      "source": [
        "max_rn_test = test.groupby(['id'])['rn'].count().max()\n",
        "max_rn_test"
      ]
    },
    {
      "cell_type": "code",
      "execution_count": null,
      "metadata": {
        "colab": {
          "base_uri": "https://localhost:8080/",
          "height": 193
        },
        "id": "u3dw99eeuYK2",
        "outputId": "cc094017-3b4a-420c-b16a-243c339d2ec0"
      },
      "outputs": [
        {
          "output_type": "execute_result",
          "data": {
            "text/plain": [
              "    id  rn  pre_since_opened  pre_since_confirmed  pre_pterm  pre_fterm  \\\n",
              "24   2   1                 0                    9          4          8   \n",
              "25   2   2                13                   14         13          2   \n",
              "26   2   3                12                    9          4          8   \n",
              "\n",
              "    pre_till_pclose  pre_till_fclose  pre_loans_credit_limit  \\\n",
              "24                1               11                       1   \n",
              "25               13                5                       3   \n",
              "26                1               11                       1   \n",
              "\n",
              "    pre_loans_next_pay_summ  ...  enc_paym_21  enc_paym_22  enc_paym_23  \\\n",
              "24                        1  ...            1            1            1   \n",
              "25                        2  ...            3            3            3   \n",
              "26                        1  ...            3            3            3   \n",
              "\n",
              "    enc_paym_24  enc_loans_account_holder_type  enc_loans_credit_status  \\\n",
              "24            4                              1                        2   \n",
              "25            4                              1                        3   \n",
              "26            4                              1                        2   \n",
              "\n",
              "    enc_loans_credit_type  enc_loans_account_cur  pclose_flag  fclose_flag  \n",
              "24                      3                      1            1            1  \n",
              "25                      4                      1            0            0  \n",
              "26                      3                      1            1            1  \n",
              "\n",
              "[3 rows x 61 columns]"
            ],
            "text/html": [
              "\n",
              "  <div id=\"df-e53d99be-2d49-40bc-86ad-b3858a738004\" class=\"colab-df-container\">\n",
              "    <div>\n",
              "<style scoped>\n",
              "    .dataframe tbody tr th:only-of-type {\n",
              "        vertical-align: middle;\n",
              "    }\n",
              "\n",
              "    .dataframe tbody tr th {\n",
              "        vertical-align: top;\n",
              "    }\n",
              "\n",
              "    .dataframe thead th {\n",
              "        text-align: right;\n",
              "    }\n",
              "</style>\n",
              "<table border=\"1\" class=\"dataframe\">\n",
              "  <thead>\n",
              "    <tr style=\"text-align: right;\">\n",
              "      <th></th>\n",
              "      <th>id</th>\n",
              "      <th>rn</th>\n",
              "      <th>pre_since_opened</th>\n",
              "      <th>pre_since_confirmed</th>\n",
              "      <th>pre_pterm</th>\n",
              "      <th>pre_fterm</th>\n",
              "      <th>pre_till_pclose</th>\n",
              "      <th>pre_till_fclose</th>\n",
              "      <th>pre_loans_credit_limit</th>\n",
              "      <th>pre_loans_next_pay_summ</th>\n",
              "      <th>...</th>\n",
              "      <th>enc_paym_21</th>\n",
              "      <th>enc_paym_22</th>\n",
              "      <th>enc_paym_23</th>\n",
              "      <th>enc_paym_24</th>\n",
              "      <th>enc_loans_account_holder_type</th>\n",
              "      <th>enc_loans_credit_status</th>\n",
              "      <th>enc_loans_credit_type</th>\n",
              "      <th>enc_loans_account_cur</th>\n",
              "      <th>pclose_flag</th>\n",
              "      <th>fclose_flag</th>\n",
              "    </tr>\n",
              "  </thead>\n",
              "  <tbody>\n",
              "    <tr>\n",
              "      <th>24</th>\n",
              "      <td>2</td>\n",
              "      <td>1</td>\n",
              "      <td>0</td>\n",
              "      <td>9</td>\n",
              "      <td>4</td>\n",
              "      <td>8</td>\n",
              "      <td>1</td>\n",
              "      <td>11</td>\n",
              "      <td>1</td>\n",
              "      <td>1</td>\n",
              "      <td>...</td>\n",
              "      <td>1</td>\n",
              "      <td>1</td>\n",
              "      <td>1</td>\n",
              "      <td>4</td>\n",
              "      <td>1</td>\n",
              "      <td>2</td>\n",
              "      <td>3</td>\n",
              "      <td>1</td>\n",
              "      <td>1</td>\n",
              "      <td>1</td>\n",
              "    </tr>\n",
              "    <tr>\n",
              "      <th>25</th>\n",
              "      <td>2</td>\n",
              "      <td>2</td>\n",
              "      <td>13</td>\n",
              "      <td>14</td>\n",
              "      <td>13</td>\n",
              "      <td>2</td>\n",
              "      <td>13</td>\n",
              "      <td>5</td>\n",
              "      <td>3</td>\n",
              "      <td>2</td>\n",
              "      <td>...</td>\n",
              "      <td>3</td>\n",
              "      <td>3</td>\n",
              "      <td>3</td>\n",
              "      <td>4</td>\n",
              "      <td>1</td>\n",
              "      <td>3</td>\n",
              "      <td>4</td>\n",
              "      <td>1</td>\n",
              "      <td>0</td>\n",
              "      <td>0</td>\n",
              "    </tr>\n",
              "    <tr>\n",
              "      <th>26</th>\n",
              "      <td>2</td>\n",
              "      <td>3</td>\n",
              "      <td>12</td>\n",
              "      <td>9</td>\n",
              "      <td>4</td>\n",
              "      <td>8</td>\n",
              "      <td>1</td>\n",
              "      <td>11</td>\n",
              "      <td>1</td>\n",
              "      <td>1</td>\n",
              "      <td>...</td>\n",
              "      <td>3</td>\n",
              "      <td>3</td>\n",
              "      <td>3</td>\n",
              "      <td>4</td>\n",
              "      <td>1</td>\n",
              "      <td>2</td>\n",
              "      <td>3</td>\n",
              "      <td>1</td>\n",
              "      <td>1</td>\n",
              "      <td>1</td>\n",
              "    </tr>\n",
              "  </tbody>\n",
              "</table>\n",
              "<p>3 rows × 61 columns</p>\n",
              "</div>\n",
              "    <div class=\"colab-df-buttons\">\n",
              "\n",
              "  <div class=\"colab-df-container\">\n",
              "    <button class=\"colab-df-convert\" onclick=\"convertToInteractive('df-e53d99be-2d49-40bc-86ad-b3858a738004')\"\n",
              "            title=\"Convert this dataframe to an interactive table.\"\n",
              "            style=\"display:none;\">\n",
              "\n",
              "  <svg xmlns=\"http://www.w3.org/2000/svg\" height=\"24px\" viewBox=\"0 -960 960 960\">\n",
              "    <path d=\"M120-120v-720h720v720H120Zm60-500h600v-160H180v160Zm220 220h160v-160H400v160Zm0 220h160v-160H400v160ZM180-400h160v-160H180v160Zm440 0h160v-160H620v160ZM180-180h160v-160H180v160Zm440 0h160v-160H620v160Z\"/>\n",
              "  </svg>\n",
              "    </button>\n",
              "\n",
              "  <style>\n",
              "    .colab-df-container {\n",
              "      display:flex;\n",
              "      gap: 12px;\n",
              "    }\n",
              "\n",
              "    .colab-df-convert {\n",
              "      background-color: #E8F0FE;\n",
              "      border: none;\n",
              "      border-radius: 50%;\n",
              "      cursor: pointer;\n",
              "      display: none;\n",
              "      fill: #1967D2;\n",
              "      height: 32px;\n",
              "      padding: 0 0 0 0;\n",
              "      width: 32px;\n",
              "    }\n",
              "\n",
              "    .colab-df-convert:hover {\n",
              "      background-color: #E2EBFA;\n",
              "      box-shadow: 0px 1px 2px rgba(60, 64, 67, 0.3), 0px 1px 3px 1px rgba(60, 64, 67, 0.15);\n",
              "      fill: #174EA6;\n",
              "    }\n",
              "\n",
              "    .colab-df-buttons div {\n",
              "      margin-bottom: 4px;\n",
              "    }\n",
              "\n",
              "    [theme=dark] .colab-df-convert {\n",
              "      background-color: #3B4455;\n",
              "      fill: #D2E3FC;\n",
              "    }\n",
              "\n",
              "    [theme=dark] .colab-df-convert:hover {\n",
              "      background-color: #434B5C;\n",
              "      box-shadow: 0px 1px 3px 1px rgba(0, 0, 0, 0.15);\n",
              "      filter: drop-shadow(0px 1px 2px rgba(0, 0, 0, 0.3));\n",
              "      fill: #FFFFFF;\n",
              "    }\n",
              "  </style>\n",
              "\n",
              "    <script>\n",
              "      const buttonEl =\n",
              "        document.querySelector('#df-e53d99be-2d49-40bc-86ad-b3858a738004 button.colab-df-convert');\n",
              "      buttonEl.style.display =\n",
              "        google.colab.kernel.accessAllowed ? 'block' : 'none';\n",
              "\n",
              "      async function convertToInteractive(key) {\n",
              "        const element = document.querySelector('#df-e53d99be-2d49-40bc-86ad-b3858a738004');\n",
              "        const dataTable =\n",
              "          await google.colab.kernel.invokeFunction('convertToInteractive',\n",
              "                                                    [key], {});\n",
              "        if (!dataTable) return;\n",
              "\n",
              "        const docLinkHtml = 'Like what you see? Visit the ' +\n",
              "          '<a target=\"_blank\" href=https://colab.research.google.com/notebooks/data_table.ipynb>data table notebook</a>'\n",
              "          + ' to learn more about interactive tables.';\n",
              "        element.innerHTML = '';\n",
              "        dataTable['output_type'] = 'display_data';\n",
              "        await google.colab.output.renderOutput(dataTable, element);\n",
              "        const docLink = document.createElement('div');\n",
              "        docLink.innerHTML = docLinkHtml;\n",
              "        element.appendChild(docLink);\n",
              "      }\n",
              "    </script>\n",
              "  </div>\n",
              "\n",
              "\n",
              "<div id=\"df-9831c512-4225-40b9-97d3-e5eb5bdda2be\">\n",
              "  <button class=\"colab-df-quickchart\" onclick=\"quickchart('df-9831c512-4225-40b9-97d3-e5eb5bdda2be')\"\n",
              "            title=\"Suggest charts\"\n",
              "            style=\"display:none;\">\n",
              "\n",
              "<svg xmlns=\"http://www.w3.org/2000/svg\" height=\"24px\"viewBox=\"0 0 24 24\"\n",
              "     width=\"24px\">\n",
              "    <g>\n",
              "        <path d=\"M19 3H5c-1.1 0-2 .9-2 2v14c0 1.1.9 2 2 2h14c1.1 0 2-.9 2-2V5c0-1.1-.9-2-2-2zM9 17H7v-7h2v7zm4 0h-2V7h2v10zm4 0h-2v-4h2v4z\"/>\n",
              "    </g>\n",
              "</svg>\n",
              "  </button>\n",
              "\n",
              "<style>\n",
              "  .colab-df-quickchart {\n",
              "      --bg-color: #E8F0FE;\n",
              "      --fill-color: #1967D2;\n",
              "      --hover-bg-color: #E2EBFA;\n",
              "      --hover-fill-color: #174EA6;\n",
              "      --disabled-fill-color: #AAA;\n",
              "      --disabled-bg-color: #DDD;\n",
              "  }\n",
              "\n",
              "  [theme=dark] .colab-df-quickchart {\n",
              "      --bg-color: #3B4455;\n",
              "      --fill-color: #D2E3FC;\n",
              "      --hover-bg-color: #434B5C;\n",
              "      --hover-fill-color: #FFFFFF;\n",
              "      --disabled-bg-color: #3B4455;\n",
              "      --disabled-fill-color: #666;\n",
              "  }\n",
              "\n",
              "  .colab-df-quickchart {\n",
              "    background-color: var(--bg-color);\n",
              "    border: none;\n",
              "    border-radius: 50%;\n",
              "    cursor: pointer;\n",
              "    display: none;\n",
              "    fill: var(--fill-color);\n",
              "    height: 32px;\n",
              "    padding: 0;\n",
              "    width: 32px;\n",
              "  }\n",
              "\n",
              "  .colab-df-quickchart:hover {\n",
              "    background-color: var(--hover-bg-color);\n",
              "    box-shadow: 0 1px 2px rgba(60, 64, 67, 0.3), 0 1px 3px 1px rgba(60, 64, 67, 0.15);\n",
              "    fill: var(--button-hover-fill-color);\n",
              "  }\n",
              "\n",
              "  .colab-df-quickchart-complete:disabled,\n",
              "  .colab-df-quickchart-complete:disabled:hover {\n",
              "    background-color: var(--disabled-bg-color);\n",
              "    fill: var(--disabled-fill-color);\n",
              "    box-shadow: none;\n",
              "  }\n",
              "\n",
              "  .colab-df-spinner {\n",
              "    border: 2px solid var(--fill-color);\n",
              "    border-color: transparent;\n",
              "    border-bottom-color: var(--fill-color);\n",
              "    animation:\n",
              "      spin 1s steps(1) infinite;\n",
              "  }\n",
              "\n",
              "  @keyframes spin {\n",
              "    0% {\n",
              "      border-color: transparent;\n",
              "      border-bottom-color: var(--fill-color);\n",
              "      border-left-color: var(--fill-color);\n",
              "    }\n",
              "    20% {\n",
              "      border-color: transparent;\n",
              "      border-left-color: var(--fill-color);\n",
              "      border-top-color: var(--fill-color);\n",
              "    }\n",
              "    30% {\n",
              "      border-color: transparent;\n",
              "      border-left-color: var(--fill-color);\n",
              "      border-top-color: var(--fill-color);\n",
              "      border-right-color: var(--fill-color);\n",
              "    }\n",
              "    40% {\n",
              "      border-color: transparent;\n",
              "      border-right-color: var(--fill-color);\n",
              "      border-top-color: var(--fill-color);\n",
              "    }\n",
              "    60% {\n",
              "      border-color: transparent;\n",
              "      border-right-color: var(--fill-color);\n",
              "    }\n",
              "    80% {\n",
              "      border-color: transparent;\n",
              "      border-right-color: var(--fill-color);\n",
              "      border-bottom-color: var(--fill-color);\n",
              "    }\n",
              "    90% {\n",
              "      border-color: transparent;\n",
              "      border-bottom-color: var(--fill-color);\n",
              "    }\n",
              "  }\n",
              "</style>\n",
              "\n",
              "  <script>\n",
              "    async function quickchart(key) {\n",
              "      const quickchartButtonEl =\n",
              "        document.querySelector('#' + key + ' button');\n",
              "      quickchartButtonEl.disabled = true;  // To prevent multiple clicks.\n",
              "      quickchartButtonEl.classList.add('colab-df-spinner');\n",
              "      try {\n",
              "        const charts = await google.colab.kernel.invokeFunction(\n",
              "            'suggestCharts', [key], {});\n",
              "      } catch (error) {\n",
              "        console.error('Error during call to suggestCharts:', error);\n",
              "      }\n",
              "      quickchartButtonEl.classList.remove('colab-df-spinner');\n",
              "      quickchartButtonEl.classList.add('colab-df-quickchart-complete');\n",
              "    }\n",
              "    (() => {\n",
              "      let quickchartButtonEl =\n",
              "        document.querySelector('#df-9831c512-4225-40b9-97d3-e5eb5bdda2be button');\n",
              "      quickchartButtonEl.style.display =\n",
              "        google.colab.kernel.accessAllowed ? 'block' : 'none';\n",
              "    })();\n",
              "  </script>\n",
              "</div>\n",
              "    </div>\n",
              "  </div>\n"
            ],
            "application/vnd.google.colaboratory.intrinsic+json": {
              "type": "dataframe"
            }
          },
          "metadata": {},
          "execution_count": 13
        }
      ],
      "source": [
        "train[train['id']==2]"
      ]
    },
    {
      "cell_type": "code",
      "execution_count": null,
      "metadata": {
        "id": "EGqR_b1quYW3"
      },
      "outputs": [],
      "source": [
        "train_2 = train[train['id']==2].groupby('id').agg(lambda x : x.astype('int16').to_list()+ [int(0)] * (max_rn - len(x)))"
      ]
    },
    {
      "cell_type": "code",
      "source": [
        "train_12 = train[train['id']==12].groupby('id').agg(lambda x : x.to_list()+ [] * (max_rn - len(x)))"
      ],
      "metadata": {
        "id": "Z3KPu_xdyLJ2"
      },
      "execution_count": null,
      "outputs": []
    },
    {
      "cell_type": "code",
      "source": [
        "type(train_12['rn'].to_list()[0][0])"
      ],
      "metadata": {
        "colab": {
          "base_uri": "https://localhost:8080/"
        },
        "id": "x1SxMiB2xwct",
        "outputId": "a887aa01-7b00-4b7f-f896-0ddd51e6b4f5"
      },
      "execution_count": null,
      "outputs": [
        {
          "output_type": "execute_result",
          "data": {
            "text/plain": [
              "int"
            ]
          },
          "metadata": {},
          "execution_count": 28
        }
      ]
    },
    {
      "cell_type": "code",
      "execution_count": null,
      "metadata": {
        "colab": {
          "base_uri": "https://localhost:8080/"
        },
        "id": "G8ookGrB-qyw",
        "outputId": "3410b467-ddc1-42e3-8a6a-56594f80c595"
      },
      "outputs": [
        {
          "output_type": "execute_result",
          "data": {
            "text/plain": [
              "58"
            ]
          },
          "metadata": {},
          "execution_count": 29
        }
      ],
      "source": [
        "max_rn"
      ]
    },
    {
      "cell_type": "code",
      "source": [
        "trunc = train.shape[0] - round(train.shape[0]/10)"
      ],
      "metadata": {
        "id": "aw9fb0KhubLO"
      },
      "execution_count": null,
      "outputs": []
    },
    {
      "cell_type": "code",
      "source": [
        "train[:trunc].shape"
      ],
      "metadata": {
        "colab": {
          "base_uri": "https://localhost:8080/"
        },
        "id": "S5ZshKdcw832",
        "outputId": "886accde-ec3c-47c8-d0d6-c4b1880bf625"
      },
      "execution_count": null,
      "outputs": [
        {
          "output_type": "execute_result",
          "data": {
            "text/plain": [
              "(2616272, 61)"
            ]
          },
          "metadata": {},
          "execution_count": 32
        }
      ]
    },
    {
      "cell_type": "code",
      "execution_count": null,
      "metadata": {
        "id": "JGomeFqNOm_7"
      },
      "outputs": [],
      "source": [
        "train_df = train.groupby('id').agg(lambda x : x.astype('int16').to_list()+ [int(0)] * (max_rn - len(x)))"
      ]
    },
    {
      "cell_type": "code",
      "execution_count": null,
      "metadata": {
        "id": "q_Stm_6BEge2"
      },
      "outputs": [],
      "source": [
        "test_df = test.groupby('id').agg(lambda x : x.astype('int16').to_list()+ [int(0)] * (max_rn - len(x)))"
      ]
    },
    {
      "cell_type": "code",
      "execution_count": null,
      "metadata": {
        "colab": {
          "base_uri": "https://localhost:8080/"
        },
        "id": "euREnSvc04kw",
        "outputId": "4fc8da04-57b6-44c0-ab46-8feef3ac2b57"
      },
      "outputs": [
        {
          "output_type": "execute_result",
          "data": {
            "text/plain": [
              "(3000000, 60)"
            ]
          },
          "metadata": {},
          "execution_count": 97
        }
      ],
      "source": [
        "train_df.shape"
      ]
    },
    {
      "cell_type": "code",
      "execution_count": null,
      "metadata": {
        "colab": {
          "base_uri": "https://localhost:8080/"
        },
        "id": "NlrNDMsJNKKb",
        "outputId": "a76a80c8-55e0-40cb-90c2-b16c999a12d7"
      },
      "outputs": [
        {
          "output_type": "execute_result",
          "data": {
            "text/plain": [
              "(500000, 62)"
            ]
          },
          "metadata": {},
          "execution_count": 98
        }
      ],
      "source": [
        "test_df.shape"
      ]
    },
    {
      "cell_type": "code",
      "execution_count": null,
      "metadata": {
        "id": "Ff9Ttuwd07bb"
      },
      "outputs": [],
      "source": [
        "train_df.to_csv('/content/train_df')"
      ]
    },
    {
      "cell_type": "code",
      "execution_count": null,
      "metadata": {
        "id": "lvRSaSjSO3wc"
      },
      "outputs": [],
      "source": [
        "test_df.to_csv('/content/test_df')"
      ]
    },
    {
      "cell_type": "code",
      "execution_count": null,
      "metadata": {
        "id": "6sF_j8WO2d5K"
      },
      "outputs": [],
      "source": [
        "train_df.columns"
      ]
    },
    {
      "cell_type": "code",
      "execution_count": null,
      "metadata": {
        "id": "UW4Jp2fXMdRt"
      },
      "outputs": [],
      "source": [
        "from sklearn.model_selection import train_test_split"
      ]
    },
    {
      "cell_type": "code",
      "execution_count": null,
      "metadata": {
        "colab": {
          "base_uri": "https://localhost:8080/"
        },
        "id": "HR94KjMJM1HI",
        "outputId": "71f2cc41-c19b-41ae-f221-cd48a618a8de"
      },
      "outputs": [
        {
          "output_type": "execute_result",
          "data": {
            "text/plain": [
              "(3000000, 2)"
            ]
          },
          "metadata": {},
          "execution_count": 100
        }
      ],
      "source": [
        "train_target = pd.read_csv('/content/dataset/MIiF_Кредитный скоринг/train_target.csv')\n",
        "#train_target =train_target[:trunc]\n",
        "train_target.shape"
      ]
    },
    {
      "cell_type": "code",
      "execution_count": null,
      "metadata": {
        "colab": {
          "base_uri": "https://localhost:8080/"
        },
        "id": "yn54KCdyM9hA",
        "outputId": "7d4c1f18-ac11-48c4-d18e-0d0faadf275f"
      },
      "outputs": [
        {
          "output_type": "execute_result",
          "data": {
            "text/plain": [
              "(500000, 1)"
            ]
          },
          "metadata": {},
          "execution_count": 101
        }
      ],
      "source": [
        "test_target = pd.read_csv('/content/dataset/MIiF_Кредитный скоринг/test_target.csv')\n",
        "#test_target =test_target[:test_df.shape[0]]\n",
        "test_target.shape"
      ]
    },
    {
      "cell_type": "code",
      "execution_count": null,
      "metadata": {
        "id": "t6K9JYqtNYvl"
      },
      "outputs": [],
      "source": [
        " X_train, X_test, y_train, y_test = train_test_split(\n",
        "...     train_df, train_target , test_size=0.33, random_state=42)"
      ]
    },
    {
      "cell_type": "code",
      "execution_count": null,
      "metadata": {
        "colab": {
          "base_uri": "https://localhost:8080/"
        },
        "id": "rvFhY2eZNwkv",
        "outputId": "32cdfe4c-581f-40e8-a240-8f76ac52f1a8"
      },
      "outputs": [
        {
          "output_type": "execute_result",
          "data": {
            "text/plain": [
              "(2010000, 60)"
            ]
          },
          "metadata": {},
          "execution_count": 103
        }
      ],
      "source": [
        "X_train.shape\n"
      ]
    },
    {
      "cell_type": "code",
      "execution_count": null,
      "metadata": {
        "colab": {
          "base_uri": "https://localhost:8080/"
        },
        "id": "2tWp5DHEN-wf",
        "outputId": "0814f2cf-3b9c-40f8-d3a2-c6f6da9f7f3a"
      },
      "outputs": [
        {
          "output_type": "execute_result",
          "data": {
            "text/plain": [
              "(2010000, 2)"
            ]
          },
          "metadata": {},
          "execution_count": 104
        }
      ],
      "source": [
        "y_train.shape\n"
      ]
    },
    {
      "cell_type": "code",
      "execution_count": null,
      "metadata": {
        "colab": {
          "base_uri": "https://localhost:8080/"
        },
        "id": "vRouxYj5OAmJ",
        "outputId": "84ba3f57-0a26-480d-9808-1806fe32882f"
      },
      "outputs": [
        {
          "output_type": "execute_result",
          "data": {
            "text/plain": [
              "(990000, 60)"
            ]
          },
          "metadata": {},
          "execution_count": 105
        }
      ],
      "source": [
        "X_test.shape\n"
      ]
    },
    {
      "cell_type": "code",
      "execution_count": null,
      "metadata": {
        "colab": {
          "base_uri": "https://localhost:8080/"
        },
        "id": "9616GeoaOCHX",
        "outputId": "889afad1-1027-4965-ba2b-93c5b7c2013b"
      },
      "outputs": [
        {
          "output_type": "execute_result",
          "data": {
            "text/plain": [
              "(990000, 2)"
            ]
          },
          "metadata": {},
          "execution_count": 106
        }
      ],
      "source": [
        "y_test.shape"
      ]
    },
    {
      "cell_type": "code",
      "execution_count": null,
      "metadata": {
        "id": "zc3Kad_qOe_h"
      },
      "outputs": [],
      "source": [
        "! pip install catboost"
      ]
    },
    {
      "cell_type": "code",
      "execution_count": null,
      "metadata": {
        "id": "KvPZSDSMOFwd"
      },
      "outputs": [],
      "source": [
        "from catboost import CatBoostClassifier"
      ]
    },
    {
      "cell_type": "code",
      "execution_count": null,
      "metadata": {
        "colab": {
          "base_uri": "https://localhost:8080/"
        },
        "id": "rfr5LrAWOmrp",
        "outputId": "50cbcfb9-10be-4572-f17f-77fc084a6d25"
      },
      "outputs": [
        {
          "output_type": "execute_result",
          "data": {
            "text/plain": [
              "Index(['rn', 'pre_since_opened', 'pre_since_confirmed', 'pre_pterm',\n",
              "       'pre_fterm', 'pre_till_pclose', 'pre_till_fclose',\n",
              "       'pre_loans_credit_limit', 'pre_loans_next_pay_summ',\n",
              "       'pre_loans_outstanding', 'pre_loans_total_overdue',\n",
              "       'pre_loans_max_overdue_sum', 'pre_loans_credit_cost_rate', 'pre_loans5',\n",
              "       'pre_loans530', 'pre_loans3060', 'pre_loans6090', 'pre_loans90',\n",
              "       'is_zero_loans5', 'is_zero_loans530', 'is_zero_loans3060',\n",
              "       'is_zero_loans6090', 'is_zero_loans90', 'pre_util', 'pre_over2limit',\n",
              "       'pre_maxover2limit', 'is_zero_util', 'is_zero_over2limit',\n",
              "       'is_zero_maxover2limit', 'enc_paym_0', 'enc_paym_1', 'enc_paym_2',\n",
              "       'enc_paym_3', 'enc_paym_4', 'enc_paym_5', 'enc_paym_6', 'enc_paym_7',\n",
              "       'enc_paym_8', 'enc_paym_9', 'enc_paym_10', 'enc_paym_11', 'enc_paym_12',\n",
              "       'enc_paym_13', 'enc_paym_14', 'enc_paym_15', 'enc_paym_16',\n",
              "       'enc_paym_17', 'enc_paym_18', 'enc_paym_19', 'enc_paym_20',\n",
              "       'enc_paym_21', 'enc_paym_22', 'enc_paym_23', 'enc_paym_24',\n",
              "       'enc_loans_account_holder_type', 'enc_loans_credit_status',\n",
              "       'enc_loans_credit_type', 'enc_loans_account_cur', 'pclose_flag',\n",
              "       'fclose_flag'],\n",
              "      dtype='object')"
            ]
          },
          "metadata": {},
          "execution_count": 108
        }
      ],
      "source": [
        "X_train.columns"
      ]
    },
    {
      "cell_type": "code",
      "execution_count": null,
      "metadata": {
        "id": "OjQAixP1O0W5"
      },
      "outputs": [],
      "source": [
        "X = ['pre_since_opened', 'pre_since_confirmed', 'pre_pterm',\n",
        "       'pre_fterm', 'pre_till_pclose', 'pre_till_fclose',\n",
        "       'pre_loans_credit_limit', 'pre_loans_next_pay_summ',\n",
        "       'pre_loans_outstanding', 'pre_loans_total_overdue',\n",
        "       'pre_loans_max_overdue_sum', 'pre_loans_credit_cost_rate', 'pre_loans5',\n",
        "       'pre_loans530', 'pre_loans3060', 'pre_loans6090', 'pre_loans90',\n",
        "       'is_zero_loans5', 'is_zero_loans530', 'is_zero_loans3060',\n",
        "       'is_zero_loans6090', 'is_zero_loans90', 'pre_util', 'pre_over2limit',\n",
        "       'pre_maxover2limit', 'is_zero_util', 'is_zero_over2limit',\n",
        "       'is_zero_maxover2limit', 'enc_paym_0', 'enc_paym_1', 'enc_paym_2',\n",
        "       'enc_paym_3', 'enc_paym_4', 'enc_paym_5', 'enc_paym_6', 'enc_paym_7',\n",
        "       'enc_paym_8', 'enc_paym_9', 'enc_paym_10', 'enc_paym_11', 'enc_paym_12',\n",
        "       'enc_paym_13', 'enc_paym_14', 'enc_paym_15', 'enc_paym_16',\n",
        "       'enc_paym_17', 'enc_paym_18', 'enc_paym_19', 'enc_paym_20',\n",
        "       'enc_paym_21', 'enc_paym_22', 'enc_paym_23', 'enc_paym_24',\n",
        "       'enc_loans_account_holder_type', 'enc_loans_credit_status',\n",
        "       'enc_loans_credit_type', 'enc_loans_account_cur', 'pclose_flag',\n",
        "       'fclose_flag']\n",
        "y = ['flag']"
      ]
    },
    {
      "cell_type": "code",
      "execution_count": null,
      "metadata": {
        "id": "ttwB1cGygQz9"
      },
      "outputs": [],
      "source": [
        "embedding_features = ['pre_since_opened', 'pre_since_confirmed', 'pre_pterm',\n",
        "       'pre_fterm', 'pre_till_pclose', 'pre_till_fclose',\n",
        "       'pre_loans_credit_limit', 'pre_loans_next_pay_summ',\n",
        "       'pre_loans_outstanding', 'pre_loans_total_overdue',\n",
        "       'pre_loans_max_overdue_sum', 'pre_loans_credit_cost_rate', 'pre_loans5',\n",
        "       'pre_loans530', 'pre_loans3060', 'pre_loans6090', 'pre_loans90',\n",
        "       'is_zero_loans5', 'is_zero_loans530', 'is_zero_loans3060',\n",
        "       'is_zero_loans6090', 'is_zero_loans90', 'pre_util', 'pre_over2limit',\n",
        "       'pre_maxover2limit', 'is_zero_util', 'is_zero_over2limit',\n",
        "       'is_zero_maxover2limit', 'enc_paym_0', 'enc_paym_1', 'enc_paym_2',\n",
        "       'enc_paym_3', 'enc_paym_4', 'enc_paym_5', 'enc_paym_6', 'enc_paym_7',\n",
        "       'enc_paym_8', 'enc_paym_9', 'enc_paym_10', 'enc_paym_11', 'enc_paym_12',\n",
        "       'enc_paym_13', 'enc_paym_14', 'enc_paym_15', 'enc_paym_16',\n",
        "       'enc_paym_17', 'enc_paym_18', 'enc_paym_19', 'enc_paym_20',\n",
        "       'enc_paym_21', 'enc_paym_22', 'enc_paym_23', 'enc_paym_24',\n",
        "       'enc_loans_account_holder_type', 'enc_loans_credit_status',\n",
        "       'enc_loans_credit_type', 'enc_loans_account_cur', 'pclose_flag',\n",
        "       'fclose_flag']"
      ]
    },
    {
      "cell_type": "code",
      "execution_count": null,
      "metadata": {
        "id": "CcseLcpKPPF9"
      },
      "outputs": [],
      "source": [
        "params = {'verbose':100,\n",
        "          'embedding_features':X,\n",
        "          'eval_metric':'AUC',\n",
        "          'auto_class_weights':'Balanced',\n",
        "          'random_seed':42,\n",
        "          'learning_rate':0.01}"
      ]
    },
    {
      "cell_type": "code",
      "execution_count": null,
      "metadata": {
        "id": "KtaT-CS8PTz9"
      },
      "outputs": [],
      "source": [
        "model = CatBoostClassifier(**params)"
      ]
    },
    {
      "cell_type": "code",
      "execution_count": null,
      "metadata": {
        "id": "LikF24xtPvJj"
      },
      "outputs": [],
      "source": [
        "#model.fit(train_data,eval_set=valid_data)"
      ]
    },
    {
      "cell_type": "code",
      "source": [
        "#model.save_model('mymodel')"
      ],
      "metadata": {
        "id": "QL4ZurUyKq7b"
      },
      "execution_count": null,
      "outputs": []
    },
    {
      "cell_type": "code",
      "source": [
        "model.fit(X_train[X],y_train[y],eval_set=(X_test[X],y_test[y]))"
      ],
      "metadata": {
        "id": "K57AiDsIUL4D"
      },
      "execution_count": null,
      "outputs": []
    },
    {
      "cell_type": "code",
      "source": [
        "model.save_model('mymodel2')"
      ],
      "metadata": {
        "id": "8D7OhafjXvs7"
      },
      "execution_count": null,
      "outputs": []
    },
    {
      "cell_type": "code",
      "source": [
        "from catboost import Pool\n",
        "test_data = Pool(data=test_df[X],\n",
        "                 embedding_features=embedding_features\n",
        "                 )\n",
        "'''\n",
        "train_data = Pool(data=X_train[X],\n",
        "                  label=y_train[y],\n",
        "                 embedding_features=embedding_features\n",
        "                 )\n",
        "\n",
        "valid_data = Pool(data=X_test[X],\n",
        "                  label=y_test[y],\n",
        "                  embedding_features=embedding_features\n",
        "                 )\n",
        "'''"
      ],
      "metadata": {
        "id": "TrK1OohEss54"
      },
      "execution_count": null,
      "outputs": []
    },
    {
      "cell_type": "code",
      "source": [
        "score =  model.predict_proba(test_data)\n",
        "score[0]"
      ],
      "metadata": {
        "id": "ryit7gzbQuhM"
      },
      "execution_count": null,
      "outputs": []
    },
    {
      "cell_type": "code",
      "source": [
        "score[:,1]"
      ],
      "metadata": {
        "id": "zfuj-rhQaf8N"
      },
      "execution_count": null,
      "outputs": []
    },
    {
      "cell_type": "code",
      "source": [
        "score[:,0]"
      ],
      "metadata": {
        "id": "8HR03eRJasxO"
      },
      "execution_count": null,
      "outputs": []
    },
    {
      "cell_type": "code",
      "source": [
        "test_df['score_0'] = score[:,0]"
      ],
      "metadata": {
        "id": "uU88dXHRawpy"
      },
      "execution_count": null,
      "outputs": []
    },
    {
      "cell_type": "code",
      "source": [
        "test_df['score_1'] = score[:,1]"
      ],
      "metadata": {
        "id": "kX6GuPfVa848"
      },
      "execution_count": null,
      "outputs": []
    },
    {
      "cell_type": "code",
      "source": [
        "test_df.head()"
      ],
      "metadata": {
        "id": "3UpF2D_RbA2D"
      },
      "execution_count": null,
      "outputs": []
    },
    {
      "cell_type": "code",
      "source": [
        "score.shape"
      ],
      "metadata": {
        "id": "_bgl7KLbY-pO"
      },
      "execution_count": null,
      "outputs": []
    },
    {
      "cell_type": "code",
      "source": [
        "test_df.head()"
      ],
      "metadata": {
        "id": "ryrZhZQnTj-p"
      },
      "execution_count": null,
      "outputs": []
    },
    {
      "cell_type": "code",
      "source": [
        "test_df.iloc[:,-2:].to_csv('/content/test_df')"
      ],
      "metadata": {
        "id": "_9VLXUUXR_5z"
      },
      "execution_count": null,
      "outputs": []
    },
    {
      "cell_type": "code",
      "source": [
        "test_df.iloc[:,-2:]"
      ],
      "metadata": {
        "id": "OY7VAwDNb9oE"
      },
      "execution_count": null,
      "outputs": []
    },
    {
      "cell_type": "code",
      "source": [
        "while True:pass"
      ],
      "metadata": {
        "id": "OOCILMKQJUGw"
      },
      "execution_count": null,
      "outputs": []
    }
  ],
  "metadata": {
    "accelerator": "TPU",
    "colab": {
      "gpuType": "V28",
      "provenance": []
    },
    "kernelspec": {
      "display_name": "Python 3",
      "name": "python3"
    },
    "language_info": {
      "name": "python"
    }
  },
  "nbformat": 4,
  "nbformat_minor": 0
}