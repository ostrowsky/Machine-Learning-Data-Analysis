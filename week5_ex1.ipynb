{
 "cells": [
  {
   "cell_type": "code",
   "execution_count": 51,
   "metadata": {},
   "outputs": [],
   "source": [
    "import pandas as pd\n",
    "from sklearn.ensemble import RandomForestRegressor as RFR\n",
    "from sklearn.metrics import r2_score\n",
    "from sklearn.model_selection import KFold\n",
    "from sklearn.model_selection import cross_val_score"
   ]
  },
  {
   "cell_type": "code",
   "execution_count": 52,
   "metadata": {},
   "outputs": [],
   "source": [
    "data = pd.read_csv('abalone.csv')\n",
    "data['Sex'] = data['Sex'].map(lambda x: 1 if x== 'M' else( -1 if x=='F' else 0))\n"
   ]
  },
  {
   "cell_type": "code",
   "execution_count": 53,
   "metadata": {},
   "outputs": [],
   "source": [
    "y = data['Rings']\n",
    "X = data[['Sex','Length','Diameter','WholeWeight','ShuckedWeight','VisceraWeight','ShellWeight']]"
   ]
  },
  {
   "cell_type": "code",
   "execution_count": null,
   "metadata": {},
   "outputs": [
    {
     "name": "stdout",
     "output_type": "stream",
     "text": [
      "1 0.10955149294062223\n",
      "2 0.3234493164767172\n",
      "3 0.40164366717524835\n",
      "4 0.4344051595197012\n",
      "5 0.4603152496888588\n",
      "6 0.47137971263345835\n",
      "7 0.47470397724233865\n",
      "8 0.4834514443774669\n",
      "9 0.4915194955457654\n",
      "10 0.4963027512729491\n",
      "11 0.4973186583155618\n",
      "12 0.5011279497431317\n",
      "13 0.5041702304516962\n",
      "14 0.508264674381231\n",
      "15 0.5112372889752042\n",
      "16 0.5136931002475409\n",
      "17 0.5132361834562081\n",
      "18 0.5150431446223134\n",
      "19 0.5161439903943383\n",
      "20 0.515547747370808\n",
      "21 0.5161042639178373\n",
      "22 0.5159094766431769\n",
      "23 0.517202912464171\n",
      "24 0.5181225632583798\n",
      "25 0.5181050765307887\n",
      "26 0.5188958600395986\n",
      "27 0.5199365842802484\n",
      "28 0.5201485515870923\n",
      "29 0.5210498016508925\n",
      "30 0.5212824729137695\n",
      "31 0.5216148369354243\n",
      "32 0.5227025919342202\n",
      "33 0.5232601425614758\n",
      "34 0.5226295180723197\n",
      "35 0.5222255553135053\n",
      "36 0.5225338247823579\n",
      "37 0.5229659628120762\n",
      "38 0.5225904180961007\n",
      "39 0.5219941622133911\n"
     ]
    }
   ],
   "source": [
    "for n in range(1,51,1):\n",
    "    clf = RFR(n_estimators=n, random_state=1)\n",
    "    cv = KFold(random_state=1, shuffle=True, n_splits=5)\n",
    "    scores = cross_val_score(estimator=clf,X=X,y=y,cv=cv,scoring='r2')\n",
    "    avg_score = scores.mean()\n",
    "    print(n, avg_score)\n"
   ]
  },
  {
   "cell_type": "code",
   "execution_count": null,
   "metadata": {},
   "outputs": [],
   "source": []
  },
  {
   "cell_type": "code",
   "execution_count": null,
   "metadata": {},
   "outputs": [],
   "source": []
  }
 ],
 "metadata": {
  "kernelspec": {
   "display_name": "Python 3.6",
   "language": "python",
   "name": "python36"
  },
  "language_info": {
   "codemirror_mode": {
    "name": "ipython",
    "version": 3
   },
   "file_extension": ".py",
   "mimetype": "text/x-python",
   "name": "python",
   "nbconvert_exporter": "python",
   "pygments_lexer": "ipython3",
   "version": "3.6.6"
  }
 },
 "nbformat": 4,
 "nbformat_minor": 2
}
